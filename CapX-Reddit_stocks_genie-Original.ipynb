{
 "cells": [
  {
   "cell_type": "markdown",
   "id": "6b22f6c3",
   "metadata": {},
   "source": [
    "##  1. Install Required Libraries "
   ]
  },
  {
   "cell_type": "code",
   "execution_count": 1,
   "id": "901c9095",
   "metadata": {
    "collapsed": true
   },
   "outputs": [
    {
     "name": "stdout",
     "output_type": "stream",
     "text": [
      "Requirement already satisfied: tweepy in c:\\users\\savio\\anaconda3\\lib\\site-packages (4.14.0)\n",
      "Requirement already satisfied: pandas in c:\\users\\savio\\anaconda3\\lib\\site-packages (1.5.3)\n",
      "Requirement already satisfied: numpy in c:\\users\\savio\\anaconda3\\lib\\site-packages (1.26.4)\n",
      "Requirement already satisfied: scikit-learn in c:\\users\\savio\\anaconda3\\lib\\site-packages (1.3.0)\n",
      "Requirement already satisfied: matplotlib in c:\\users\\savio\\anaconda3\\lib\\site-packages (3.7.1)\n",
      "Requirement already satisfied: nltk in c:\\users\\savio\\anaconda3\\lib\\site-packages (3.8.1)\n",
      "Requirement already satisfied: oauthlib<4,>=3.2.0 in c:\\users\\savio\\anaconda3\\lib\\site-packages (from tweepy) (3.2.2)\n",
      "Requirement already satisfied: requests<3,>=2.27.0 in c:\\users\\savio\\anaconda3\\lib\\site-packages (from tweepy) (2.31.0)\n",
      "Requirement already satisfied: requests-oauthlib<2,>=1.2.0 in c:\\users\\savio\\anaconda3\\lib\\site-packages (from tweepy) (1.3.1)\n",
      "Requirement already satisfied: python-dateutil>=2.8.1 in c:\\users\\savio\\anaconda3\\lib\\site-packages (from pandas) (2.8.2)\n",
      "Requirement already satisfied: pytz>=2020.1 in c:\\users\\savio\\anaconda3\\lib\\site-packages (from pandas) (2022.7)\n",
      "Requirement already satisfied: scipy>=1.5.0 in c:\\users\\savio\\anaconda3\\lib\\site-packages (from scikit-learn) (1.10.1)\n",
      "Requirement already satisfied: joblib>=1.1.1 in c:\\users\\savio\\anaconda3\\lib\\site-packages (from scikit-learn) (1.2.0)\n",
      "Requirement already satisfied: threadpoolctl>=2.0.0 in c:\\users\\savio\\anaconda3\\lib\\site-packages (from scikit-learn) (2.2.0)\n",
      "Requirement already satisfied: contourpy>=1.0.1 in c:\\users\\savio\\anaconda3\\lib\\site-packages (from matplotlib) (1.0.5)\n",
      "Requirement already satisfied: cycler>=0.10 in c:\\users\\savio\\anaconda3\\lib\\site-packages (from matplotlib) (0.11.0)\n",
      "Requirement already satisfied: fonttools>=4.22.0 in c:\\users\\savio\\anaconda3\\lib\\site-packages (from matplotlib) (4.25.0)\n",
      "Requirement already satisfied: kiwisolver>=1.0.1 in c:\\users\\savio\\anaconda3\\lib\\site-packages (from matplotlib) (1.4.4)\n",
      "Requirement already satisfied: packaging>=20.0 in c:\\users\\savio\\anaconda3\\lib\\site-packages (from matplotlib) (23.0)\n",
      "Requirement already satisfied: pillow>=6.2.0 in c:\\users\\savio\\anaconda3\\lib\\site-packages (from matplotlib) (9.4.0)\n",
      "Requirement already satisfied: pyparsing>=2.3.1 in c:\\users\\savio\\anaconda3\\lib\\site-packages (from matplotlib) (3.0.9)\n",
      "Requirement already satisfied: click in c:\\users\\savio\\anaconda3\\lib\\site-packages (from nltk) (8.0.4)\n",
      "Requirement already satisfied: regex>=2021.8.3 in c:\\users\\savio\\anaconda3\\lib\\site-packages (from nltk) (2022.7.9)\n",
      "Requirement already satisfied: tqdm in c:\\users\\savio\\anaconda3\\lib\\site-packages (from nltk) (4.65.0)\n",
      "Requirement already satisfied: six>=1.5 in c:\\users\\savio\\anaconda3\\lib\\site-packages (from python-dateutil>=2.8.1->pandas) (1.16.0)\n",
      "Requirement already satisfied: charset-normalizer<4,>=2 in c:\\users\\savio\\anaconda3\\lib\\site-packages (from requests<3,>=2.27.0->tweepy) (2.0.4)\n",
      "Requirement already satisfied: idna<4,>=2.5 in c:\\users\\savio\\anaconda3\\lib\\site-packages (from requests<3,>=2.27.0->tweepy) (3.4)\n",
      "Requirement already satisfied: urllib3<3,>=1.21.1 in c:\\users\\savio\\anaconda3\\lib\\site-packages (from requests<3,>=2.27.0->tweepy) (1.26.16)\n",
      "Requirement already satisfied: certifi>=2017.4.17 in c:\\users\\savio\\anaconda3\\lib\\site-packages (from requests<3,>=2.27.0->tweepy) (2023.7.22)\n",
      "Requirement already satisfied: colorama in c:\\users\\savio\\anaconda3\\lib\\site-packages (from click->nltk) (0.4.6)\n",
      "Note: you may need to restart the kernel to use updated packages.\n"
     ]
    }
   ],
   "source": [
    "pip install tweepy pandas numpy scikit-learn matplotlib nltk "
   ]
  },
  {
   "cell_type": "code",
   "execution_count": 8,
   "id": "34774b29",
   "metadata": {
    "collapsed": true
   },
   "outputs": [
    {
     "name": "stdout",
     "output_type": "stream",
     "text": [
      "Collecting textblob\n",
      "  Obtaining dependency information for textblob from https://files.pythonhosted.org/packages/02/07/5fd2945356dd839974d3a25de8a142dc37293c21315729a41e775b5f3569/textblob-0.18.0.post0-py3-none-any.whl.metadata\n",
      "  Downloading textblob-0.18.0.post0-py3-none-any.whl.metadata (4.5 kB)\n",
      "Requirement already satisfied: nltk>=3.8 in c:\\users\\savio\\anaconda3\\lib\\site-packages (from textblob) (3.8.1)\n",
      "Requirement already satisfied: click in c:\\users\\savio\\anaconda3\\lib\\site-packages (from nltk>=3.8->textblob) (8.0.4)\n",
      "Requirement already satisfied: joblib in c:\\users\\savio\\anaconda3\\lib\\site-packages (from nltk>=3.8->textblob) (1.2.0)\n",
      "Requirement already satisfied: regex>=2021.8.3 in c:\\users\\savio\\anaconda3\\lib\\site-packages (from nltk>=3.8->textblob) (2022.7.9)\n",
      "Requirement already satisfied: tqdm in c:\\users\\savio\\anaconda3\\lib\\site-packages (from nltk>=3.8->textblob) (4.65.0)\n",
      "Requirement already satisfied: colorama in c:\\users\\savio\\anaconda3\\lib\\site-packages (from click->nltk>=3.8->textblob) (0.4.6)\n",
      "Downloading textblob-0.18.0.post0-py3-none-any.whl (626 kB)\n",
      "   ---------------------------------------- 0.0/626.3 kB ? eta -:--:--\n",
      "   - -------------------------------------- 30.7/626.3 kB 1.4 MB/s eta 0:00:01\n",
      "   ---- ---------------------------------- 71.7/626.3 kB 787.7 kB/s eta 0:00:01\n",
      "   ------- ------------------------------ 122.9/626.3 kB 901.1 kB/s eta 0:00:01\n",
      "   ---------- --------------------------- 174.1/626.3 kB 958.1 kB/s eta 0:00:01\n",
      "   --------------- ------------------------ 235.5/626.3 kB 1.0 MB/s eta 0:00:01\n",
      "   -------------------- ------------------- 327.7/626.3 kB 1.1 MB/s eta 0:00:01\n",
      "   -------------------------- ------------- 419.8/626.3 kB 1.2 MB/s eta 0:00:01\n",
      "   ------------------------------------- -- 583.7/626.3 kB 1.5 MB/s eta 0:00:01\n",
      "   ---------------------------------------- 626.3/626.3 kB 1.5 MB/s eta 0:00:00\n",
      "Installing collected packages: textblob\n",
      "Successfully installed textblob-0.18.0.post0\n",
      "Note: you may need to restart the kernel to use updated packages.\n"
     ]
    }
   ],
   "source": [
    "pip install textblob"
   ]
  },
  {
   "cell_type": "markdown",
   "id": "196a3599",
   "metadata": {},
   "source": [
    "## 2. Importing Necassary Libraries "
   ]
  },
  {
   "cell_type": "code",
   "execution_count": 9,
   "id": "18d75832",
   "metadata": {
    "collapsed": true
   },
   "outputs": [
    {
     "name": "stderr",
     "output_type": "stream",
     "text": [
      "[nltk_data] Downloading package punkt to\n",
      "[nltk_data]     C:\\Users\\savio\\AppData\\Roaming\\nltk_data...\n",
      "[nltk_data]   Unzipping tokenizers\\punkt.zip.\n",
      "[nltk_data] Downloading package stopwords to\n",
      "[nltk_data]     C:\\Users\\savio\\AppData\\Roaming\\nltk_data...\n",
      "[nltk_data]   Unzipping corpora\\stopwords.zip.\n"
     ]
    },
    {
     "data": {
      "text/plain": [
       "True"
      ]
     },
     "execution_count": 9,
     "metadata": {},
     "output_type": "execute_result"
    }
   ],
   "source": [
    "import tweepy\n",
    "import pandas as pd\n",
    "import numpy as np\n",
    "import matplotlib.pyplot as plt\n",
    "from sklearn.model_selection import train_test_split\n",
    "from sklearn.ensemble import RandomForestClassifier\n",
    "from sklearn.metrics import accuracy_score, classification_report\n",
    "from textblob import TextBlob\n",
    "from nltk.corpus import stopwords\n",
    "from nltk.tokenize import word_tokenize\n",
    "import nltk\n",
    "nltk.download('punkt')\n",
    "nltk.download('stopwords')"
   ]
  },
  {
   "cell_type": "markdown",
   "id": "e8cfe123",
   "metadata": {},
   "source": [
    "## 3. Data Scraping Using Reddit API"
   ]
  },
  {
   "cell_type": "code",
   "execution_count": 3,
   "id": "c605399c",
   "metadata": {
    "collapsed": true
   },
   "outputs": [
    {
     "name": "stdout",
     "output_type": "stream",
     "text": [
      "Collecting praw\n",
      "  Obtaining dependency information for praw from https://files.pythonhosted.org/packages/73/ca/60ec131c3b43bff58261167045778b2509b83922ce8f935ac89d871bd3ea/praw-7.8.1-py3-none-any.whl.metadata\n",
      "  Downloading praw-7.8.1-py3-none-any.whl.metadata (9.4 kB)\n",
      "Collecting prawcore<3,>=2.4 (from praw)\n",
      "  Obtaining dependency information for prawcore<3,>=2.4 from https://files.pythonhosted.org/packages/96/5c/8af904314e42d5401afcfaff69940dc448e974f80f7aa39b241a4fbf0cf1/prawcore-2.4.0-py3-none-any.whl.metadata\n",
      "  Downloading prawcore-2.4.0-py3-none-any.whl.metadata (5.0 kB)\n",
      "Collecting update_checker>=0.18 (from praw)\n",
      "  Obtaining dependency information for update_checker>=0.18 from https://files.pythonhosted.org/packages/0c/ba/8dd7fa5f0b1c6a8ac62f8f57f7e794160c1f86f31c6d0fb00f582372a3e4/update_checker-0.18.0-py3-none-any.whl.metadata\n",
      "  Downloading update_checker-0.18.0-py3-none-any.whl.metadata (2.3 kB)\n",
      "Requirement already satisfied: websocket-client>=0.54.0 in c:\\users\\savio\\anaconda3\\lib\\site-packages (from praw) (0.58.0)\n",
      "Requirement already satisfied: requests<3.0,>=2.6.0 in c:\\users\\savio\\anaconda3\\lib\\site-packages (from prawcore<3,>=2.4->praw) (2.31.0)\n",
      "Requirement already satisfied: six in c:\\users\\savio\\anaconda3\\lib\\site-packages (from websocket-client>=0.54.0->praw) (1.16.0)\n",
      "Requirement already satisfied: charset-normalizer<4,>=2 in c:\\users\\savio\\anaconda3\\lib\\site-packages (from requests<3.0,>=2.6.0->prawcore<3,>=2.4->praw) (2.0.4)\n",
      "Requirement already satisfied: idna<4,>=2.5 in c:\\users\\savio\\anaconda3\\lib\\site-packages (from requests<3.0,>=2.6.0->prawcore<3,>=2.4->praw) (3.4)\n",
      "Requirement already satisfied: urllib3<3,>=1.21.1 in c:\\users\\savio\\anaconda3\\lib\\site-packages (from requests<3.0,>=2.6.0->prawcore<3,>=2.4->praw) (1.26.16)\n",
      "Requirement already satisfied: certifi>=2017.4.17 in c:\\users\\savio\\anaconda3\\lib\\site-packages (from requests<3.0,>=2.6.0->prawcore<3,>=2.4->praw) (2023.7.22)\n",
      "Downloading praw-7.8.1-py3-none-any.whl (189 kB)\n",
      "   ---------------------------------------- 0.0/189.3 kB ? eta -:--:--\n",
      "   -- ------------------------------------- 10.2/189.3 kB ? eta -:--:--\n",
      "   -- ------------------------------------- 10.2/189.3 kB ? eta -:--:--\n",
      "   ------ -------------------------------- 30.7/189.3 kB 262.6 kB/s eta 0:00:01\n",
      "   -------- ------------------------------ 41.0/189.3 kB 217.9 kB/s eta 0:00:01\n",
      "   ------------ -------------------------- 61.4/189.3 kB 297.7 kB/s eta 0:00:01\n",
      "   ------------ -------------------------- 61.4/189.3 kB 297.7 kB/s eta 0:00:01\n",
      "   ------------------ -------------------- 92.2/189.3 kB 291.5 kB/s eta 0:00:01\n",
      "   ------------------ -------------------- 92.2/189.3 kB 291.5 kB/s eta 0:00:01\n",
      "   ---------------------- --------------- 112.6/189.3 kB 285.2 kB/s eta 0:00:01\n",
      "   ---------------------------- --------- 143.4/189.3 kB 304.6 kB/s eta 0:00:01\n",
      "   ---------------------------- --------- 143.4/189.3 kB 304.6 kB/s eta 0:00:01\n",
      "   ---------------------------------- --- 174.1/189.3 kB 308.5 kB/s eta 0:00:01\n",
      "   -------------------------------------- 189.3/189.3 kB 327.4 kB/s eta 0:00:00\n",
      "Downloading prawcore-2.4.0-py3-none-any.whl (17 kB)\n",
      "Downloading update_checker-0.18.0-py3-none-any.whl (7.0 kB)\n",
      "Installing collected packages: update_checker, prawcore, praw\n",
      "Successfully installed praw-7.8.1 prawcore-2.4.0 update_checker-0.18.0\n",
      "Note: you may need to restart the kernel to use updated packages.\n"
     ]
    }
   ],
   "source": [
    "pip install praw"
   ]
  },
  {
   "cell_type": "code",
   "execution_count": 144,
   "id": "e2661f03",
   "metadata": {
    "scrolled": false
   },
   "outputs": [
    {
     "name": "stdout",
     "output_type": "stream",
     "text": [
      "  Keyword                                              Title       Created  \\\n",
      "0  stocks   I've bought $10 of stocks every day for 3 years.  1.704124e+09   \n",
      "1  stocks     How do people find stocks before they explode?  1.613058e+09   \n",
      "2  stocks                Best long term stocks to invest in?  1.718893e+09   \n",
      "3  stocks             What are some undervalued tech stocks?  1.728762e+09   \n",
      "4  stocks             What are some undervalued stocks 2024?  1.709071e+09   \n",
      "5  stocks                          Best stocks to invest in?  1.710205e+09   \n",
      "6  stocks      Best growth stocks for the foreseeable future  1.715233e+09   \n",
      "7  stocks                         penny stocks = best stocks  1.692324e+09   \n",
      "8  stocks  Vaccine maker stocks fall as Trump chooses RFK...  1.731708e+09   \n",
      "9  stocks                       You guys better stock up now  1.730898e+09   \n",
      "\n",
      "                                                 URL  \n",
      "0                https://i.redd.it/t4ly54l8nu9c1.png  \n",
      "1  https://www.reddit.com/r/stocks/comments/lhn99...  \n",
      "2  https://www.reddit.com/r/stocks/comments/1dkcx...  \n",
      "3  https://www.reddit.com/r/ValueInvesting/commen...  \n",
      "4  https://www.reddit.com/r/ValueInvesting/commen...  \n",
      "5  https://www.reddit.com/r/MilitaryFinance/comme...  \n",
      "6  https://www.reddit.com/r/stocks/comments/1cnpo...  \n",
      "7  https://www.reddit.com/r/pennystocks/comments/...  \n",
      "8  https://www.cnbc.com/2024/11/14/vaccine-maker-...  \n",
      "9               https://i.redd.it/yzdhzy5t4azd1.jpeg  \n"
     ]
    }
   ],
   "source": [
    "import requests\n",
    "import praw\n",
    "import pandas as pd\n",
    "\n",
    "\n",
    "reddit = praw.Reddit(\n",
    "    client_id=\"Your Client ID Here \",\n",
    "    client_secret=\"your Client Secret Here \",\n",
    "    user_agent = \"projectname-script by /u/Reddit user name\"\n",
    ")\n",
    "\n",
    "def fetch_reddit_posts(keywords, posts_per_keyword=20):\n",
    "    \"\"\"Fetch Reddit posts for each keyword, up to posts_per_keyword.\"\"\"\n",
    "    posts = []\n",
    "    for keyword in keywords:\n",
    "        subreddit_posts = reddit.subreddit(\"all\").search(keyword, limit=posts_per_keyword)\n",
    "        for post in subreddit_posts:\n",
    "            posts.append({\n",
    "                \"Keyword\": keyword,\n",
    "                \"Title\": post.title,\n",
    "                \"Created\": post.created_utc,\n",
    "                \"URL\": post.url,\n",
    "            })\n",
    "    return posts\n",
    "\n",
    "\n",
    "keywords = [\"stocks\",\"investing\",\"trading\",\"Tesla\"]\n",
    "posts = fetch_reddit_posts(keywords, posts_per_keyword=20)  # Fetch 20 posts per keyword\n",
    "posts_df = pd.DataFrame(posts)\n",
    "print(posts_df.head(10))"
   ]
  },
  {
   "cell_type": "code",
   "execution_count": 145,
   "id": "4499d566",
   "metadata": {
    "scrolled": true
   },
   "outputs": [
    {
     "name": "stdout",
     "output_type": "stream",
     "text": [
      "Remaining requests in current window: None\n"
     ]
    }
   ],
   "source": [
    "import praw\n",
    "reddit = praw.Reddit(\n",
    "   client_id=\"Your Client ID Here \",\n",
    "    client_secret=\"your Client Secret Here \",\n",
    "    user_agent = \"projectname-script by /u/Reddit user name\"\n",
    ")\n",
    "\n",
    "rate_limit = reddit.auth.limits\n",
    "print(f\"Remaining requests in current window: {rate_limit['remaining']}\")"
   ]
  },
  {
   "cell_type": "markdown",
   "id": "e8fc4035",
   "metadata": {},
   "source": [
    "## 4. Data Cleaning and Preprocessing"
   ]
  },
  {
   "cell_type": "code",
   "execution_count": 146,
   "id": "f4353cb3",
   "metadata": {
    "scrolled": false
   },
   "outputs": [
    {
     "name": "stdout",
     "output_type": "stream",
     "text": [
      "  Keyword                                             Title       Created  \\\n",
      "0  stocks  I've bought $10 of stocks every day for 3 years.  1.704124e+09   \n",
      "1  stocks    How do people find stocks before they explode?  1.613058e+09   \n",
      "2  stocks               Best long term stocks to invest in?  1.718893e+09   \n",
      "3  stocks            What are some undervalued tech stocks?  1.728762e+09   \n",
      "4  stocks            What are some undervalued stocks 2024?  1.709071e+09   \n",
      "\n",
      "                                                 URL  \\\n",
      "0                https://i.redd.it/t4ly54l8nu9c1.png   \n",
      "1  https://www.reddit.com/r/stocks/comments/lhn99...   \n",
      "2  https://www.reddit.com/r/stocks/comments/1dkcx...   \n",
      "3  https://www.reddit.com/r/ValueInvesting/commen...   \n",
      "4  https://www.reddit.com/r/ValueInvesting/commen...   \n",
      "\n",
      "                                       cleaned_post  sentiment  \n",
      "0  i ve bought  10 of stocks every day for 3 years       0.000  \n",
      "1    how do people find stocks before they explode       0.000  \n",
      "2               best long term stocks to invest in       0.475  \n",
      "3            what are some undervalued tech stocks       0.000  \n",
      "4            what are some undervalued stocks 2024       0.000  \n",
      "\n",
      "Positive Posts: 20\n",
      "Negative Posts: 15\n",
      "Neutral Posts: 45\n"
     ]
    }
   ],
   "source": [
    "import re\n",
    "from textblob import TextBlob\n",
    "import pandas as pd\n",
    "\n",
    "\n",
    "if posts:  \n",
    "   \n",
    "    posts_df = pd.DataFrame(posts)\n",
    "\n",
    "    \n",
    "    def clean_post(post):\n",
    "        post = re.sub(r'http\\S+', '', post)  \n",
    "        post = re.sub(r'@\\w+', '', post)    \n",
    "        post = re.sub(r'#', '', post)       \n",
    "        post = re.sub(r'\\W', ' ', post)    \n",
    "        return post.lower()\n",
    "\n",
    "\n",
    "    posts_df['cleaned_post'] = posts_df['Title'].apply(clean_post)\n",
    "\n",
    "  \n",
    "    def get_sentiment(post):\n",
    "        analysis = TextBlob(post)\n",
    "        return analysis.sentiment.polarity\n",
    "\n",
    "  \n",
    "    posts_df['sentiment'] = posts_df['cleaned_post'].apply(get_sentiment)\n",
    "\n",
    " \n",
    "    print(posts_df.head())\n",
    "    \n",
    "\n",
    " \n",
    "    positive_posts = posts_df[posts_df['sentiment'] > 0]\n",
    "    negative_posts = posts_df[posts_df['sentiment'] < 0]\n",
    "    neutral_posts = posts_df[posts_df['sentiment'] == 0]\n",
    "\n",
    "    print(f\"\\nPositive Posts: {len(positive_posts)}\")\n",
    "    print(f\"Negative Posts: {len(negative_posts)}\")\n",
    "    print(f\"Neutral Posts: {len(neutral_posts)}\")\n",
    "\n",
    "else:\n",
    "    print(\"No Reddit posts were scraped. Please check your API or keywords.\")\n",
    "\n"
   ]
  },
  {
   "cell_type": "code",
   "execution_count": 147,
   "id": "eedf98d4",
   "metadata": {},
   "outputs": [],
   "source": [
    "saved_df = posts_df"
   ]
  },
  {
   "cell_type": "code",
   "execution_count": 148,
   "id": "f1e5b61c",
   "metadata": {
    "scrolled": false
   },
   "outputs": [
    {
     "data": {
      "text/plain": [
       "count    80.000000\n",
       "mean      0.028987\n",
       "std       0.287047\n",
       "min      -0.500000\n",
       "25%       0.000000\n",
       "50%       0.000000\n",
       "75%       0.008333\n",
       "max       1.000000\n",
       "Name: sentiment, dtype: float64"
      ]
     },
     "execution_count": 148,
     "metadata": {},
     "output_type": "execute_result"
    }
   ],
   "source": [
    "posts_df['sentiment'].describe()"
   ]
  },
  {
   "cell_type": "code",
   "execution_count": 149,
   "id": "bdcb23da",
   "metadata": {
    "scrolled": false
   },
   "outputs": [
    {
     "name": "stdout",
     "output_type": "stream",
     "text": [
      "   Keyword                                              Title       Created  \\\n",
      "0   stocks   I've bought $10 of stocks every day for 3 years.  1.704124e+09   \n",
      "1   stocks     How do people find stocks before they explode?  1.613058e+09   \n",
      "2   stocks                Best long term stocks to invest in?  1.718893e+09   \n",
      "3   stocks             What are some undervalued tech stocks?  1.728762e+09   \n",
      "4   stocks             What are some undervalued stocks 2024?  1.709071e+09   \n",
      "..     ...                                                ...           ...   \n",
      "75   Tesla        Where Tesla started vs where they are today  1.729474e+09   \n",
      "76   Tesla  What's the argument for a Tesla valuation this...  1.731166e+09   \n",
      "77   Tesla  BMW overtakes Tesla. BMW has taken the lead in...  1.724403e+09   \n",
      "78   Tesla  Elon Musk, Donald Trump event on X crashes sit...  1.723509e+09   \n",
      "79   Tesla  Tesla CEO Elon Musk loses bid to get $56 billi...  1.733179e+09   \n",
      "\n",
      "                                                  URL  \\\n",
      "0                 https://i.redd.it/t4ly54l8nu9c1.png   \n",
      "1   https://www.reddit.com/r/stocks/comments/lhn99...   \n",
      "2   https://www.reddit.com/r/stocks/comments/1dkcx...   \n",
      "3   https://www.reddit.com/r/ValueInvesting/commen...   \n",
      "4   https://www.reddit.com/r/ValueInvesting/commen...   \n",
      "..                                                ...   \n",
      "75               https://i.redd.it/nnt4rxwhj0wd1.jpeg   \n",
      "76                https://i.redd.it/trbkql0i8wzd1.png   \n",
      "77  https://ua-stena.info/en/bmw-overtakes-tesla-i...   \n",
      "78  https://www.cnbc.com/2024/08/12/elon-musk-dona...   \n",
      "79  https://www.cnbc.com/2024/12/02/tesla-ceo-elon...   \n",
      "\n",
      "                                         cleaned_post  sentiment  \n",
      "0    i ve bought  10 of stocks every day for 3 years       0.000  \n",
      "1      how do people find stocks before they explode       0.000  \n",
      "2                 best long term stocks to invest in       0.475  \n",
      "3              what are some undervalued tech stocks       0.000  \n",
      "4              what are some undervalued stocks 2024       0.000  \n",
      "..                                                ...        ...  \n",
      "75        where tesla started vs where they are today      0.000  \n",
      "76  what s the argument for a tesla valuation this...      0.130  \n",
      "77  bmw overtakes tesla  bmw has taken the lead in...      0.125  \n",
      "78  elon musk  donald trump event on x crashes sit...      0.000  \n",
      "79  tesla ceo elon musk loses bid to get  56 billi...     -0.300  \n",
      "\n",
      "[80 rows x 6 columns]\n"
     ]
    }
   ],
   "source": [
    "print(saved_df)"
   ]
  },
  {
   "cell_type": "code",
   "execution_count": 150,
   "id": "ba934814",
   "metadata": {},
   "outputs": [
    {
     "data": {
      "text/html": [
       "<div>\n",
       "<style scoped>\n",
       "    .dataframe tbody tr th:only-of-type {\n",
       "        vertical-align: middle;\n",
       "    }\n",
       "\n",
       "    .dataframe tbody tr th {\n",
       "        vertical-align: top;\n",
       "    }\n",
       "\n",
       "    .dataframe thead th {\n",
       "        text-align: right;\n",
       "    }\n",
       "</style>\n",
       "<table border=\"1\" class=\"dataframe\">\n",
       "  <thead>\n",
       "    <tr style=\"text-align: right;\">\n",
       "      <th></th>\n",
       "      <th>Keyword</th>\n",
       "      <th>Title</th>\n",
       "      <th>Created</th>\n",
       "      <th>URL</th>\n",
       "      <th>cleaned_post</th>\n",
       "      <th>sentiment</th>\n",
       "    </tr>\n",
       "  </thead>\n",
       "  <tbody>\n",
       "    <tr>\n",
       "      <th>0</th>\n",
       "      <td>stocks</td>\n",
       "      <td>I've bought $10 of stocks every day for 3 years.</td>\n",
       "      <td>1.704124e+09</td>\n",
       "      <td>https://i.redd.it/t4ly54l8nu9c1.png</td>\n",
       "      <td>i ve bought  10 of stocks every day for 3 years</td>\n",
       "      <td>0.000</td>\n",
       "    </tr>\n",
       "    <tr>\n",
       "      <th>1</th>\n",
       "      <td>stocks</td>\n",
       "      <td>How do people find stocks before they explode?</td>\n",
       "      <td>1.613058e+09</td>\n",
       "      <td>https://www.reddit.com/r/stocks/comments/lhn99...</td>\n",
       "      <td>how do people find stocks before they explode</td>\n",
       "      <td>0.000</td>\n",
       "    </tr>\n",
       "    <tr>\n",
       "      <th>2</th>\n",
       "      <td>stocks</td>\n",
       "      <td>Best long term stocks to invest in?</td>\n",
       "      <td>1.718893e+09</td>\n",
       "      <td>https://www.reddit.com/r/stocks/comments/1dkcx...</td>\n",
       "      <td>best long term stocks to invest in</td>\n",
       "      <td>0.475</td>\n",
       "    </tr>\n",
       "    <tr>\n",
       "      <th>3</th>\n",
       "      <td>stocks</td>\n",
       "      <td>What are some undervalued tech stocks?</td>\n",
       "      <td>1.728762e+09</td>\n",
       "      <td>https://www.reddit.com/r/ValueInvesting/commen...</td>\n",
       "      <td>what are some undervalued tech stocks</td>\n",
       "      <td>0.000</td>\n",
       "    </tr>\n",
       "    <tr>\n",
       "      <th>4</th>\n",
       "      <td>stocks</td>\n",
       "      <td>What are some undervalued stocks 2024?</td>\n",
       "      <td>1.709071e+09</td>\n",
       "      <td>https://www.reddit.com/r/ValueInvesting/commen...</td>\n",
       "      <td>what are some undervalued stocks 2024</td>\n",
       "      <td>0.000</td>\n",
       "    </tr>\n",
       "    <tr>\n",
       "      <th>...</th>\n",
       "      <td>...</td>\n",
       "      <td>...</td>\n",
       "      <td>...</td>\n",
       "      <td>...</td>\n",
       "      <td>...</td>\n",
       "      <td>...</td>\n",
       "    </tr>\n",
       "    <tr>\n",
       "      <th>75</th>\n",
       "      <td>Tesla</td>\n",
       "      <td>Where Tesla started vs where they are today</td>\n",
       "      <td>1.729474e+09</td>\n",
       "      <td>https://i.redd.it/nnt4rxwhj0wd1.jpeg</td>\n",
       "      <td>where tesla started vs where they are today</td>\n",
       "      <td>0.000</td>\n",
       "    </tr>\n",
       "    <tr>\n",
       "      <th>76</th>\n",
       "      <td>Tesla</td>\n",
       "      <td>What's the argument for a Tesla valuation this...</td>\n",
       "      <td>1.731166e+09</td>\n",
       "      <td>https://i.redd.it/trbkql0i8wzd1.png</td>\n",
       "      <td>what s the argument for a tesla valuation this...</td>\n",
       "      <td>0.130</td>\n",
       "    </tr>\n",
       "    <tr>\n",
       "      <th>77</th>\n",
       "      <td>Tesla</td>\n",
       "      <td>BMW overtakes Tesla. BMW has taken the lead in...</td>\n",
       "      <td>1.724403e+09</td>\n",
       "      <td>https://ua-stena.info/en/bmw-overtakes-tesla-i...</td>\n",
       "      <td>bmw overtakes tesla  bmw has taken the lead in...</td>\n",
       "      <td>0.125</td>\n",
       "    </tr>\n",
       "    <tr>\n",
       "      <th>78</th>\n",
       "      <td>Tesla</td>\n",
       "      <td>Elon Musk, Donald Trump event on X crashes sit...</td>\n",
       "      <td>1.723509e+09</td>\n",
       "      <td>https://www.cnbc.com/2024/08/12/elon-musk-dona...</td>\n",
       "      <td>elon musk  donald trump event on x crashes sit...</td>\n",
       "      <td>0.000</td>\n",
       "    </tr>\n",
       "    <tr>\n",
       "      <th>79</th>\n",
       "      <td>Tesla</td>\n",
       "      <td>Tesla CEO Elon Musk loses bid to get $56 billi...</td>\n",
       "      <td>1.733179e+09</td>\n",
       "      <td>https://www.cnbc.com/2024/12/02/tesla-ceo-elon...</td>\n",
       "      <td>tesla ceo elon musk loses bid to get  56 billi...</td>\n",
       "      <td>-0.300</td>\n",
       "    </tr>\n",
       "  </tbody>\n",
       "</table>\n",
       "<p>80 rows × 6 columns</p>\n",
       "</div>"
      ],
      "text/plain": [
       "   Keyword                                              Title       Created  \\\n",
       "0   stocks   I've bought $10 of stocks every day for 3 years.  1.704124e+09   \n",
       "1   stocks     How do people find stocks before they explode?  1.613058e+09   \n",
       "2   stocks                Best long term stocks to invest in?  1.718893e+09   \n",
       "3   stocks             What are some undervalued tech stocks?  1.728762e+09   \n",
       "4   stocks             What are some undervalued stocks 2024?  1.709071e+09   \n",
       "..     ...                                                ...           ...   \n",
       "75   Tesla        Where Tesla started vs where they are today  1.729474e+09   \n",
       "76   Tesla  What's the argument for a Tesla valuation this...  1.731166e+09   \n",
       "77   Tesla  BMW overtakes Tesla. BMW has taken the lead in...  1.724403e+09   \n",
       "78   Tesla  Elon Musk, Donald Trump event on X crashes sit...  1.723509e+09   \n",
       "79   Tesla  Tesla CEO Elon Musk loses bid to get $56 billi...  1.733179e+09   \n",
       "\n",
       "                                                  URL  \\\n",
       "0                 https://i.redd.it/t4ly54l8nu9c1.png   \n",
       "1   https://www.reddit.com/r/stocks/comments/lhn99...   \n",
       "2   https://www.reddit.com/r/stocks/comments/1dkcx...   \n",
       "3   https://www.reddit.com/r/ValueInvesting/commen...   \n",
       "4   https://www.reddit.com/r/ValueInvesting/commen...   \n",
       "..                                                ...   \n",
       "75               https://i.redd.it/nnt4rxwhj0wd1.jpeg   \n",
       "76                https://i.redd.it/trbkql0i8wzd1.png   \n",
       "77  https://ua-stena.info/en/bmw-overtakes-tesla-i...   \n",
       "78  https://www.cnbc.com/2024/08/12/elon-musk-dona...   \n",
       "79  https://www.cnbc.com/2024/12/02/tesla-ceo-elon...   \n",
       "\n",
       "                                         cleaned_post  sentiment  \n",
       "0    i ve bought  10 of stocks every day for 3 years       0.000  \n",
       "1      how do people find stocks before they explode       0.000  \n",
       "2                 best long term stocks to invest in       0.475  \n",
       "3              what are some undervalued tech stocks       0.000  \n",
       "4              what are some undervalued stocks 2024       0.000  \n",
       "..                                                ...        ...  \n",
       "75        where tesla started vs where they are today      0.000  \n",
       "76  what s the argument for a tesla valuation this...      0.130  \n",
       "77  bmw overtakes tesla  bmw has taken the lead in...      0.125  \n",
       "78  elon musk  donald trump event on x crashes sit...      0.000  \n",
       "79  tesla ceo elon musk loses bid to get  56 billi...     -0.300  \n",
       "\n",
       "[80 rows x 6 columns]"
      ]
     },
     "execution_count": 150,
     "metadata": {},
     "output_type": "execute_result"
    }
   ],
   "source": [
    "df = posts_df\n",
    "df"
   ]
  },
  {
   "cell_type": "markdown",
   "id": "a278a097",
   "metadata": {},
   "source": [
    "## 5. Sentiment Analysis Visualization"
   ]
  },
  {
   "cell_type": "code",
   "execution_count": 151,
   "id": "818c7e43",
   "metadata": {},
   "outputs": [
    {
     "data": {
      "image/png": "[encoded data removed]",
      "text/plain": [
       "<Figure size 640x480 with 1 Axes>"
      ]
     },
     "metadata": {},
     "output_type": "display_data"
    }
   ],
   "source": [
    "import seaborn as sns\n",
    "import matplotlib.pyplot as plt\n",
    "\n",
    "# Plot sentiment distribution\n",
    "sns.histplot(posts_df['sentiment'], bins=20, kde=True, color='blue')\n",
    "plt.title('Sentiment Distribution of Reddit Posts')\n",
    "plt.xlabel('Sentiment Polarity')\n",
    "plt.ylabel('Frequency')\n",
    "plt.show()"
   ]
  },
  {
   "cell_type": "markdown",
   "id": "f4e7b6f9",
   "metadata": {},
   "source": [
    "## 6. Feature Extraction and Model Building"
   ]
  },
  {
   "cell_type": "code",
   "execution_count": 62,
   "id": "5efe9374",
   "metadata": {
    "collapsed": true
   },
   "outputs": [
    {
     "name": "stdout",
     "output_type": "stream",
     "text": [
      "Requirement already satisfied: tensorflow in c:\\users\\savio\\anaconda3\\lib\\site-packages (2.18.0)\n",
      "Requirement already satisfied: tensorflow-intel==2.18.0 in c:\\users\\savio\\anaconda3\\lib\\site-packages (from tensorflow) (2.18.0)\n",
      "Requirement already satisfied: absl-py>=1.0.0 in c:\\users\\savio\\anaconda3\\lib\\site-packages (from tensorflow-intel==2.18.0->tensorflow) (2.1.0)\n",
      "Requirement already satisfied: astunparse>=1.6.0 in c:\\users\\savio\\anaconda3\\lib\\site-packages (from tensorflow-intel==2.18.0->tensorflow) (1.6.3)\n",
      "Requirement already satisfied: flatbuffers>=24.3.25 in c:\\users\\savio\\anaconda3\\lib\\site-packages (from tensorflow-intel==2.18.0->tensorflow) (24.3.25)\n",
      "Requirement already satisfied: gast!=0.5.0,!=0.5.1,!=0.5.2,>=0.2.1 in c:\\users\\savio\\anaconda3\\lib\\site-packages (from tensorflow-intel==2.18.0->tensorflow) (0.6.0)\n",
      "Requirement already satisfied: google-pasta>=0.1.1 in c:\\users\\savio\\anaconda3\\lib\\site-packages (from tensorflow-intel==2.18.0->tensorflow) (0.2.0)\n",
      "Requirement already satisfied: libclang>=13.0.0 in c:\\users\\savio\\anaconda3\\lib\\site-packages (from tensorflow-intel==2.18.0->tensorflow) (18.1.1)\n",
      "Requirement already satisfied: opt-einsum>=2.3.2 in c:\\users\\savio\\anaconda3\\lib\\site-packages (from tensorflow-intel==2.18.0->tensorflow) (3.4.0)\n",
      "Requirement already satisfied: packaging in c:\\users\\savio\\anaconda3\\lib\\site-packages (from tensorflow-intel==2.18.0->tensorflow) (23.0)\n",
      "Requirement already satisfied: protobuf!=4.21.0,!=4.21.1,!=4.21.2,!=4.21.3,!=4.21.4,!=4.21.5,<6.0.0dev,>=3.20.3 in c:\\users\\savio\\anaconda3\\lib\\site-packages (from tensorflow-intel==2.18.0->tensorflow) (5.28.3)\n",
      "Requirement already satisfied: requests<3,>=2.21.0 in c:\\users\\savio\\anaconda3\\lib\\site-packages (from tensorflow-intel==2.18.0->tensorflow) (2.31.0)\n",
      "Requirement already satisfied: setuptools in c:\\users\\savio\\anaconda3\\lib\\site-packages (from tensorflow-intel==2.18.0->tensorflow) (68.0.0)\n",
      "Requirement already satisfied: six>=1.12.0 in c:\\users\\savio\\anaconda3\\lib\\site-packages (from tensorflow-intel==2.18.0->tensorflow) (1.16.0)\n",
      "Requirement already satisfied: termcolor>=1.1.0 in c:\\users\\savio\\anaconda3\\lib\\site-packages (from tensorflow-intel==2.18.0->tensorflow) (2.5.0)\n",
      "Requirement already satisfied: typing-extensions>=3.6.6 in c:\\users\\savio\\anaconda3\\lib\\site-packages (from tensorflow-intel==2.18.0->tensorflow) (4.12.2)\n",
      "Requirement already satisfied: wrapt>=1.11.0 in c:\\users\\savio\\anaconda3\\lib\\site-packages (from tensorflow-intel==2.18.0->tensorflow) (1.14.1)\n",
      "Requirement already satisfied: grpcio<2.0,>=1.24.3 in c:\\users\\savio\\anaconda3\\lib\\site-packages (from tensorflow-intel==2.18.0->tensorflow) (1.68.0)\n",
      "Requirement already satisfied: tensorboard<2.19,>=2.18 in c:\\users\\savio\\anaconda3\\lib\\site-packages (from tensorflow-intel==2.18.0->tensorflow) (2.18.0)\n",
      "Requirement already satisfied: keras>=3.5.0 in c:\\users\\savio\\anaconda3\\lib\\site-packages (from tensorflow-intel==2.18.0->tensorflow) (3.6.0)\n",
      "Requirement already satisfied: numpy<2.1.0,>=1.26.0 in c:\\users\\savio\\anaconda3\\lib\\site-packages (from tensorflow-intel==2.18.0->tensorflow) (1.26.4)\n",
      "Requirement already satisfied: h5py>=3.11.0 in c:\\users\\savio\\anaconda3\\lib\\site-packages (from tensorflow-intel==2.18.0->tensorflow) (3.12.1)\n",
      "Requirement already satisfied: ml-dtypes<0.5.0,>=0.4.0 in c:\\users\\savio\\anaconda3\\lib\\site-packages (from tensorflow-intel==2.18.0->tensorflow) (0.4.1)\n",
      "Requirement already satisfied: tensorflow-io-gcs-filesystem>=0.23.1 in c:\\users\\savio\\anaconda3\\lib\\site-packages (from tensorflow-intel==2.18.0->tensorflow) (0.31.0)\n",
      "Requirement already satisfied: wheel<1.0,>=0.23.0 in c:\\users\\savio\\anaconda3\\lib\\site-packages (from astunparse>=1.6.0->tensorflow-intel==2.18.0->tensorflow) (0.38.4)\n",
      "Requirement already satisfied: rich in c:\\users\\savio\\anaconda3\\lib\\site-packages (from keras>=3.5.0->tensorflow-intel==2.18.0->tensorflow) (13.9.3)\n",
      "Requirement already satisfied: namex in c:\\users\\savio\\anaconda3\\lib\\site-packages (from keras>=3.5.0->tensorflow-intel==2.18.0->tensorflow) (0.0.8)\n",
      "Requirement already satisfied: optree in c:\\users\\savio\\anaconda3\\lib\\site-packages (from keras>=3.5.0->tensorflow-intel==2.18.0->tensorflow) (0.13.0)\n",
      "Requirement already satisfied: charset-normalizer<4,>=2 in c:\\users\\savio\\anaconda3\\lib\\site-packages (from requests<3,>=2.21.0->tensorflow-intel==2.18.0->tensorflow) (2.0.4)\n",
      "Requirement already satisfied: idna<4,>=2.5 in c:\\users\\savio\\anaconda3\\lib\\site-packages (from requests<3,>=2.21.0->tensorflow-intel==2.18.0->tensorflow) (3.4)\n",
      "Requirement already satisfied: urllib3<3,>=1.21.1 in c:\\users\\savio\\anaconda3\\lib\\site-packages (from requests<3,>=2.21.0->tensorflow-intel==2.18.0->tensorflow) (1.26.16)\n",
      "Requirement already satisfied: certifi>=2017.4.17 in c:\\users\\savio\\anaconda3\\lib\\site-packages (from requests<3,>=2.21.0->tensorflow-intel==2.18.0->tensorflow) (2023.7.22)\n",
      "Requirement already satisfied: markdown>=2.6.8 in c:\\users\\savio\\anaconda3\\lib\\site-packages (from tensorboard<2.19,>=2.18->tensorflow-intel==2.18.0->tensorflow) (3.4.1)\n",
      "Requirement already satisfied: tensorboard-data-server<0.8.0,>=0.7.0 in c:\\users\\savio\\anaconda3\\lib\\site-packages (from tensorboard<2.19,>=2.18->tensorflow-intel==2.18.0->tensorflow) (0.7.2)\n",
      "Requirement already satisfied: werkzeug>=1.0.1 in c:\\users\\savio\\anaconda3\\lib\\site-packages (from tensorboard<2.19,>=2.18->tensorflow-intel==2.18.0->tensorflow) (2.2.3)\n",
      "Requirement already satisfied: MarkupSafe>=2.1.1 in c:\\users\\savio\\anaconda3\\lib\\site-packages (from werkzeug>=1.0.1->tensorboard<2.19,>=2.18->tensorflow-intel==2.18.0->tensorflow) (2.1.1)\n",
      "Requirement already satisfied: markdown-it-py>=2.2.0 in c:\\users\\savio\\anaconda3\\lib\\site-packages (from rich->keras>=3.5.0->tensorflow-intel==2.18.0->tensorflow) (2.2.0)\n",
      "Requirement already satisfied: pygments<3.0.0,>=2.13.0 in c:\\users\\savio\\anaconda3\\lib\\site-packages (from rich->keras>=3.5.0->tensorflow-intel==2.18.0->tensorflow) (2.15.1)\n",
      "Requirement already satisfied: mdurl~=0.1 in c:\\users\\savio\\anaconda3\\lib\\site-packages (from markdown-it-py>=2.2.0->rich->keras>=3.5.0->tensorflow-intel==2.18.0->tensorflow) (0.1.0)\n",
      "Note: you may need to restart the kernel to use updated packages.\n"
     ]
    }
   ],
   "source": [
    "pip install tensorflow"
   ]
  },
  {
   "cell_type": "code",
   "execution_count": 63,
   "id": "31dae977",
   "metadata": {
    "collapsed": true
   },
   "outputs": [
    {
     "name": "stdout",
     "output_type": "stream",
     "text": [
      "Requirement already satisfied: tf-keras in c:\\users\\savio\\anaconda3\\lib\\site-packages (2.18.0)\n",
      "Requirement already satisfied: tensorflow<2.19,>=2.18 in c:\\users\\savio\\anaconda3\\lib\\site-packages (from tf-keras) (2.18.0)\n",
      "Requirement already satisfied: tensorflow-intel==2.18.0 in c:\\users\\savio\\anaconda3\\lib\\site-packages (from tensorflow<2.19,>=2.18->tf-keras) (2.18.0)\n",
      "Requirement already satisfied: absl-py>=1.0.0 in c:\\users\\savio\\anaconda3\\lib\\site-packages (from tensorflow-intel==2.18.0->tensorflow<2.19,>=2.18->tf-keras) (2.1.0)\n",
      "Requirement already satisfied: astunparse>=1.6.0 in c:\\users\\savio\\anaconda3\\lib\\site-packages (from tensorflow-intel==2.18.0->tensorflow<2.19,>=2.18->tf-keras) (1.6.3)\n",
      "Requirement already satisfied: flatbuffers>=24.3.25 in c:\\users\\savio\\anaconda3\\lib\\site-packages (from tensorflow-intel==2.18.0->tensorflow<2.19,>=2.18->tf-keras) (24.3.25)\n",
      "Requirement already satisfied: gast!=0.5.0,!=0.5.1,!=0.5.2,>=0.2.1 in c:\\users\\savio\\anaconda3\\lib\\site-packages (from tensorflow-intel==2.18.0->tensorflow<2.19,>=2.18->tf-keras) (0.6.0)\n",
      "Requirement already satisfied: google-pasta>=0.1.1 in c:\\users\\savio\\anaconda3\\lib\\site-packages (from tensorflow-intel==2.18.0->tensorflow<2.19,>=2.18->tf-keras) (0.2.0)\n",
      "Requirement already satisfied: libclang>=13.0.0 in c:\\users\\savio\\anaconda3\\lib\\site-packages (from tensorflow-intel==2.18.0->tensorflow<2.19,>=2.18->tf-keras) (18.1.1)\n",
      "Requirement already satisfied: opt-einsum>=2.3.2 in c:\\users\\savio\\anaconda3\\lib\\site-packages (from tensorflow-intel==2.18.0->tensorflow<2.19,>=2.18->tf-keras) (3.4.0)\n",
      "Requirement already satisfied: packaging in c:\\users\\savio\\anaconda3\\lib\\site-packages (from tensorflow-intel==2.18.0->tensorflow<2.19,>=2.18->tf-keras) (23.0)\n",
      "Requirement already satisfied: protobuf!=4.21.0,!=4.21.1,!=4.21.2,!=4.21.3,!=4.21.4,!=4.21.5,<6.0.0dev,>=3.20.3 in c:\\users\\savio\\anaconda3\\lib\\site-packages (from tensorflow-intel==2.18.0->tensorflow<2.19,>=2.18->tf-keras) (5.28.3)\n",
      "Requirement already satisfied: requests<3,>=2.21.0 in c:\\users\\savio\\anaconda3\\lib\\site-packages (from tensorflow-intel==2.18.0->tensorflow<2.19,>=2.18->tf-keras) (2.31.0)\n",
      "Requirement already satisfied: setuptools in c:\\users\\savio\\anaconda3\\lib\\site-packages (from tensorflow-intel==2.18.0->tensorflow<2.19,>=2.18->tf-keras) (68.0.0)\n",
      "Requirement already satisfied: six>=1.12.0 in c:\\users\\savio\\anaconda3\\lib\\site-packages (from tensorflow-intel==2.18.0->tensorflow<2.19,>=2.18->tf-keras) (1.16.0)\n",
      "Requirement already satisfied: termcolor>=1.1.0 in c:\\users\\savio\\anaconda3\\lib\\site-packages (from tensorflow-intel==2.18.0->tensorflow<2.19,>=2.18->tf-keras) (2.5.0)\n",
      "Requirement already satisfied: typing-extensions>=3.6.6 in c:\\users\\savio\\anaconda3\\lib\\site-packages (from tensorflow-intel==2.18.0->tensorflow<2.19,>=2.18->tf-keras) (4.12.2)\n",
      "Requirement already satisfied: wrapt>=1.11.0 in c:\\users\\savio\\anaconda3\\lib\\site-packages (from tensorflow-intel==2.18.0->tensorflow<2.19,>=2.18->tf-keras) (1.14.1)\n",
      "Requirement already satisfied: grpcio<2.0,>=1.24.3 in c:\\users\\savio\\anaconda3\\lib\\site-packages (from tensorflow-intel==2.18.0->tensorflow<2.19,>=2.18->tf-keras) (1.68.0)\n",
      "Requirement already satisfied: tensorboard<2.19,>=2.18 in c:\\users\\savio\\anaconda3\\lib\\site-packages (from tensorflow-intel==2.18.0->tensorflow<2.19,>=2.18->tf-keras) (2.18.0)\n",
      "Requirement already satisfied: keras>=3.5.0 in c:\\users\\savio\\anaconda3\\lib\\site-packages (from tensorflow-intel==2.18.0->tensorflow<2.19,>=2.18->tf-keras) (3.6.0)\n",
      "Requirement already satisfied: numpy<2.1.0,>=1.26.0 in c:\\users\\savio\\anaconda3\\lib\\site-packages (from tensorflow-intel==2.18.0->tensorflow<2.19,>=2.18->tf-keras) (1.26.4)\n",
      "Requirement already satisfied: h5py>=3.11.0 in c:\\users\\savio\\anaconda3\\lib\\site-packages (from tensorflow-intel==2.18.0->tensorflow<2.19,>=2.18->tf-keras) (3.12.1)\n",
      "Requirement already satisfied: ml-dtypes<0.5.0,>=0.4.0 in c:\\users\\savio\\anaconda3\\lib\\site-packages (from tensorflow-intel==2.18.0->tensorflow<2.19,>=2.18->tf-keras) (0.4.1)\n",
      "Requirement already satisfied: tensorflow-io-gcs-filesystem>=0.23.1 in c:\\users\\savio\\anaconda3\\lib\\site-packages (from tensorflow-intel==2.18.0->tensorflow<2.19,>=2.18->tf-keras) (0.31.0)\n",
      "Requirement already satisfied: wheel<1.0,>=0.23.0 in c:\\users\\savio\\anaconda3\\lib\\site-packages (from astunparse>=1.6.0->tensorflow-intel==2.18.0->tensorflow<2.19,>=2.18->tf-keras) (0.38.4)\n",
      "Requirement already satisfied: rich in c:\\users\\savio\\anaconda3\\lib\\site-packages (from keras>=3.5.0->tensorflow-intel==2.18.0->tensorflow<2.19,>=2.18->tf-keras) (13.9.3)\n",
      "Requirement already satisfied: namex in c:\\users\\savio\\anaconda3\\lib\\site-packages (from keras>=3.5.0->tensorflow-intel==2.18.0->tensorflow<2.19,>=2.18->tf-keras) (0.0.8)\n",
      "Requirement already satisfied: optree in c:\\users\\savio\\anaconda3\\lib\\site-packages (from keras>=3.5.0->tensorflow-intel==2.18.0->tensorflow<2.19,>=2.18->tf-keras) (0.13.0)\n",
      "Requirement already satisfied: charset-normalizer<4,>=2 in c:\\users\\savio\\anaconda3\\lib\\site-packages (from requests<3,>=2.21.0->tensorflow-intel==2.18.0->tensorflow<2.19,>=2.18->tf-keras) (2.0.4)\n",
      "Requirement already satisfied: idna<4,>=2.5 in c:\\users\\savio\\anaconda3\\lib\\site-packages (from requests<3,>=2.21.0->tensorflow-intel==2.18.0->tensorflow<2.19,>=2.18->tf-keras) (3.4)\n",
      "Requirement already satisfied: urllib3<3,>=1.21.1 in c:\\users\\savio\\anaconda3\\lib\\site-packages (from requests<3,>=2.21.0->tensorflow-intel==2.18.0->tensorflow<2.19,>=2.18->tf-keras) (1.26.16)\n",
      "Requirement already satisfied: certifi>=2017.4.17 in c:\\users\\savio\\anaconda3\\lib\\site-packages (from requests<3,>=2.21.0->tensorflow-intel==2.18.0->tensorflow<2.19,>=2.18->tf-keras) (2023.7.22)\n",
      "Requirement already satisfied: markdown>=2.6.8 in c:\\users\\savio\\anaconda3\\lib\\site-packages (from tensorboard<2.19,>=2.18->tensorflow-intel==2.18.0->tensorflow<2.19,>=2.18->tf-keras) (3.4.1)\n",
      "Requirement already satisfied: tensorboard-data-server<0.8.0,>=0.7.0 in c:\\users\\savio\\anaconda3\\lib\\site-packages (from tensorboard<2.19,>=2.18->tensorflow-intel==2.18.0->tensorflow<2.19,>=2.18->tf-keras) (0.7.2)\n",
      "Requirement already satisfied: werkzeug>=1.0.1 in c:\\users\\savio\\anaconda3\\lib\\site-packages (from tensorboard<2.19,>=2.18->tensorflow-intel==2.18.0->tensorflow<2.19,>=2.18->tf-keras) (2.2.3)\n",
      "Requirement already satisfied: MarkupSafe>=2.1.1 in c:\\users\\savio\\anaconda3\\lib\\site-packages (from werkzeug>=1.0.1->tensorboard<2.19,>=2.18->tensorflow-intel==2.18.0->tensorflow<2.19,>=2.18->tf-keras) (2.1.1)\n",
      "Requirement already satisfied: markdown-it-py>=2.2.0 in c:\\users\\savio\\anaconda3\\lib\\site-packages (from rich->keras>=3.5.0->tensorflow-intel==2.18.0->tensorflow<2.19,>=2.18->tf-keras) (2.2.0)\n",
      "Requirement already satisfied: pygments<3.0.0,>=2.13.0 in c:\\users\\savio\\anaconda3\\lib\\site-packages (from rich->keras>=3.5.0->tensorflow-intel==2.18.0->tensorflow<2.19,>=2.18->tf-keras) (2.15.1)\n",
      "Requirement already satisfied: mdurl~=0.1 in c:\\users\\savio\\anaconda3\\lib\\site-packages (from markdown-it-py>=2.2.0->rich->keras>=3.5.0->tensorflow-intel==2.18.0->tensorflow<2.19,>=2.18->tf-keras) (0.1.0)\n",
      "Note: you may need to restart the kernel to use updated packages.\n"
     ]
    }
   ],
   "source": [
    "pip install tf-keras"
   ]
  },
  {
   "cell_type": "code",
   "execution_count": 64,
   "id": "35931fb5",
   "metadata": {
    "collapsed": true
   },
   "outputs": [
    {
     "name": "stdout",
     "output_type": "stream",
     "text": [
      "Requirement already satisfied: pydot in c:\\users\\savio\\anaconda3\\lib\\site-packages (3.0.3)\n",
      "Requirement already satisfied: pyparsing>=3.0.9 in c:\\users\\savio\\anaconda3\\lib\\site-packages (from pydot) (3.0.9)\n",
      "Note: you may need to restart the kernel to use updated packages.\n"
     ]
    }
   ],
   "source": [
    "pip install pydot"
   ]
  },
  {
   "cell_type": "code",
   "execution_count": 65,
   "id": "1d1b1bef",
   "metadata": {
    "collapsed": true
   },
   "outputs": [
    {
     "name": "stdout",
     "output_type": "stream",
     "text": [
      "Requirement already satisfied: graphviz in c:\\users\\savio\\anaconda3\\lib\\site-packages (0.20.3)\n",
      "Note: you may need to restart the kernel to use updated packages.\n"
     ]
    }
   ],
   "source": [
    "pip install graphviz"
   ]
  },
  {
   "cell_type": "code",
   "execution_count": 241,
   "id": "27b888e0",
   "metadata": {},
   "outputs": [
    {
     "name": "stdout",
     "output_type": "stream",
     "text": [
      "Tokenizer saved successfully.\n",
      "Epoch 1/15\n",
      "\u001b[1m4/4\u001b[0m \u001b[32m━━━━━━━━━━━━━━━━━━━━\u001b[0m\u001b[37m\u001b[0m \u001b[1m5s\u001b[0m 292ms/step - accuracy: 0.3958 - loss: 1.0900 - val_accuracy: 0.6875 - val_loss: 1.0587\n",
      "Epoch 2/15\n",
      "\u001b[1m4/4\u001b[0m \u001b[32m━━━━━━━━━━━━━━━━━━━━\u001b[0m\u001b[37m\u001b[0m \u001b[1m1s\u001b[0m 93ms/step - accuracy: 0.5292 - loss: 64095.1836 - val_accuracy: 0.6875 - val_loss: 1.0313\n",
      "Epoch 3/15\n",
      "\u001b[1m4/4\u001b[0m \u001b[32m━━━━━━━━━━━━━━━━━━━━\u001b[0m\u001b[37m\u001b[0m \u001b[1m0s\u001b[0m 88ms/step - accuracy: 0.5167 - loss: 0.9381 - val_accuracy: 0.6875 - val_loss: 1.0221\n",
      "Epoch 4/15\n",
      "\u001b[1m4/4\u001b[0m \u001b[32m━━━━━━━━━━━━━━━━━━━━\u001b[0m\u001b[37m\u001b[0m \u001b[1m0s\u001b[0m 88ms/step - accuracy: 0.5833 - loss: 0.9223 - val_accuracy: 0.6875 - val_loss: 1.0242\n",
      "Epoch 5/15\n",
      "\u001b[1m4/4\u001b[0m \u001b[32m━━━━━━━━━━━━━━━━━━━━\u001b[0m\u001b[37m\u001b[0m \u001b[1m0s\u001b[0m 89ms/step - accuracy: 0.5625 - loss: 0.9075 - val_accuracy: 0.6875 - val_loss: 1.0213\n",
      "Epoch 6/15\n",
      "\u001b[1m4/4\u001b[0m \u001b[32m━━━━━━━━━━━━━━━━━━━━\u001b[0m\u001b[37m\u001b[0m \u001b[1m0s\u001b[0m 90ms/step - accuracy: 0.5250 - loss: 0.9374 - val_accuracy: 0.6875 - val_loss: 1.0144\n",
      "Epoch 7/15\n",
      "\u001b[1m4/4\u001b[0m \u001b[32m━━━━━━━━━━━━━━━━━━━━\u001b[0m\u001b[37m\u001b[0m \u001b[1m0s\u001b[0m 86ms/step - accuracy: 0.5750 - loss: 0.8717 - val_accuracy: 0.7500 - val_loss: 1.0043\n",
      "Epoch 8/15\n",
      "\u001b[1m4/4\u001b[0m \u001b[32m━━━━━━━━━━━━━━━━━━━━\u001b[0m\u001b[37m\u001b[0m \u001b[1m0s\u001b[0m 89ms/step - accuracy: 0.5917 - loss: 0.8431 - val_accuracy: 0.7500 - val_loss: 0.9923\n",
      "Epoch 9/15\n",
      "\u001b[1m4/4\u001b[0m \u001b[32m━━━━━━━━━━━━━━━━━━━━\u001b[0m\u001b[37m\u001b[0m \u001b[1m0s\u001b[0m 85ms/step - accuracy: 0.6042 - loss: 789.5505 - val_accuracy: 0.7500 - val_loss: 0.9903\n",
      "Epoch 10/15\n",
      "\u001b[1m4/4\u001b[0m \u001b[32m━━━━━━━━━━━━━━━━━━━━\u001b[0m\u001b[37m\u001b[0m \u001b[1m0s\u001b[0m 87ms/step - accuracy: 0.6438 - loss: 0.7903 - val_accuracy: 0.7500 - val_loss: 0.9991\n",
      "Epoch 11/15\n",
      "\u001b[1m4/4\u001b[0m \u001b[32m━━━━━━━━━━━━━━━━━━━━\u001b[0m\u001b[37m\u001b[0m \u001b[1m0s\u001b[0m 86ms/step - accuracy: 0.7583 - loss: 0.8212 - val_accuracy: 0.7500 - val_loss: 1.0010\n",
      "Epoch 12/15\n",
      "\u001b[1m4/4\u001b[0m \u001b[32m━━━━━━━━━━━━━━━━━━━━\u001b[0m\u001b[37m\u001b[0m \u001b[1m0s\u001b[0m 91ms/step - accuracy: 0.7979 - loss: 0.7946 - val_accuracy: 0.7500 - val_loss: 0.9981\n",
      "Epoch 13/15\n",
      "\u001b[1m4/4\u001b[0m \u001b[32m━━━━━━━━━━━━━━━━━━━━\u001b[0m\u001b[37m\u001b[0m \u001b[1m0s\u001b[0m 88ms/step - accuracy: 0.8042 - loss: 0.8146 - val_accuracy: 0.7500 - val_loss: 0.9930\n",
      "Epoch 14/15\n",
      "\u001b[1m4/4\u001b[0m \u001b[32m━━━━━━━━━━━━━━━━━━━━\u001b[0m\u001b[37m\u001b[0m \u001b[1m0s\u001b[0m 97ms/step - accuracy: 0.9042 - loss: 0.7435 - val_accuracy: 0.7500 - val_loss: 0.9848\n",
      "Epoch 15/15\n",
      "\u001b[1m4/4\u001b[0m \u001b[32m━━━━━━━━━━━━━━━━━━━━\u001b[0m\u001b[37m\u001b[0m \u001b[1m0s\u001b[0m 90ms/step - accuracy: 0.8792 - loss: 0.7367 - val_accuracy: 0.8125 - val_loss: 0.9754\n",
      "\u001b[1m1/1\u001b[0m \u001b[32m━━━━━━━━━━━━━━━━━━━━\u001b[0m\u001b[37m\u001b[0m \u001b[1m1s\u001b[0m 934ms/step - accuracy: 0.8125 - loss: 0.9754\n",
      "Test Accuracy: 0.8125\n",
      "\u001b[1m1/1\u001b[0m \u001b[32m━━━━━━━━━━━━━━━━━━━━\u001b[0m\u001b[37m\u001b[0m \u001b[1m1s\u001b[0m 529ms/step\n"
     ]
    },
    {
     "data": {
      "image/png": "[encoded data removed]",
      "text/plain": [
       "<Figure size 1000x600 with 1 Axes>"
      ]
     },
     "metadata": {},
     "output_type": "display_data"
    }
   ],
   "source": [
    "from sklearn.model_selection import train_test_split\n",
    "from tensorflow.keras.models import Sequential\n",
    "from tensorflow.keras.layers import Embedding, GRU, Dense, SpatialDropout1D\n",
    "from tensorflow.keras.preprocessing.text import Tokenizer\n",
    "from tensorflow.keras.preprocessing.sequence import pad_sequences\n",
    "import matplotlib.pyplot as plt\n",
    "import pickle\n",
    "import numpy as np\n",
    "from keras.layers import LSTM\n",
    "from keras.optimizers import Nadam\n",
    "\n",
    "saved_df['label'] = saved_df['sentiment'].apply(lambda x: 1 if x > 0 else (0 if x == 0 else 2))\n",
    "X = saved_df['cleaned_post'].tolist()\n",
    "y = saved_df['label']\n",
    "tokenizer = Tokenizer(num_words=5000, lower=True)\n",
    "tokenizer.fit_on_texts(X)  \n",
    "X_seq = tokenizer.texts_to_sequences(X) \n",
    "X_pad = pad_sequences(X_seq, maxlen=100) \n",
    "\n",
    "with open('tokenizer.pickle', 'wb') as handle:\n",
    "    pickle.dump(tokenizer, handle, protocol=pickle.HIGHEST_PROTOCOL)\n",
    "    \n",
    "print(\"Tokenizer saved successfully.\")\n",
    "X_train, X_test, y_train, y_test = train_test_split(X_pad, y, test_size=0.2, random_state=42)\n",
    "model = Sequential()\n",
    "model.add(Embedding(input_dim=5000, output_dim=128, input_length=100))\n",
    "model.add(SpatialDropout1D(0.3))  # Increased dropout rate for regularization\n",
    "model.add(GRU(128, dropout=0.3, recurrent_dropout=0.3))  # Use more units in GRU for better feature extraction\n",
    "model.add(Dense(3, activation='softmax'))  # 3 classes: Positive, Negative, Neutral\n",
    "\n",
    "model.compile(loss='sparse_categorical_crossentropy', optimizer=\"adam\", metrics=['accuracy'])\n",
    "\n",
    "history = model.fit(X_train, y_train, epochs=15, batch_size=16, validation_data=(X_test, y_test))\n",
    "accuracy = model.evaluate(X_test, y_test)\n",
    "print(\"Test Accuracy:\", accuracy[1])\n",
    "\n",
    "\n",
    "predicted_sentiments = model.predict(X_test)\n",
    "plt.figure(figsize=(10, 6))\n",
    "plt.plot(range(len(y_test)), y_test, label=\"Actual\", color='blue')\n",
    "plt.plot(range(len(predicted_sentiments)), np.argmax(predicted_sentiments, axis=1), label=\"Predicted\", color='red', linestyle='--')\n",
    "plt.legend()\n",
    "plt.title(\"Sentiment Analysis: Actual vs Predicted\")\n",
    "plt.xlabel(\"Samples\")\n",
    "plt.ylabel(\"Stock Trend Prediction (0=Neutral, 1=Positive, 2=Negative)\")\n",
    "plt.show()"
   ]
  },
  {
   "cell_type": "markdown",
   "id": "953b65f6",
   "metadata": {},
   "source": [
    "## 7. Evalutation of the GRU network Model "
   ]
  },
  {
   "cell_type": "code",
   "execution_count": 242,
   "id": "183dccd7",
   "metadata": {
    "scrolled": false
   },
   "outputs": [
    {
     "name": "stdout",
     "output_type": "stream",
     "text": [
      "\u001b[1m1/1\u001b[0m \u001b[32m━━━━━━━━━━━━━━━━━━━━\u001b[0m\u001b[37m\u001b[0m \u001b[1m0s\u001b[0m 81ms/step\n",
      "Accuracy: 0.8125\n",
      "Classification Report:\n",
      "               precision    recall  f1-score   support\n",
      "\n",
      "           0       0.79      1.00      0.88        11\n",
      "           1       1.00      0.50      0.67         2\n",
      "           2       1.00      0.33      0.50         3\n",
      "\n",
      "    accuracy                           0.81        16\n",
      "   macro avg       0.93      0.61      0.68        16\n",
      "weighted avg       0.85      0.81      0.78        16\n",
      "\n"
     ]
    }
   ],
   "source": [
    "from sklearn.metrics import accuracy_score, classification_report\n",
    "\n",
    "y_pred_prob = model.predict(X_test)\n",
    "y_pred = np.argmax(y_pred_prob, axis=1) \n",
    "\n",
    "\n",
    "print(\"Accuracy:\", accuracy_score(y_test, y_pred))\n",
    "print(\"Classification Report:\\n\", classification_report(y_test, y_pred))"
   ]
  },
  {
   "cell_type": "markdown",
   "id": "c24caea9",
   "metadata": {},
   "source": [
    "## 8. Future Prediction of Stocks with Sample Datas"
   ]
  },
  {
   "cell_type": "code",
   "execution_count": 243,
   "id": "24f73c8e",
   "metadata": {
    "scrolled": false
   },
   "outputs": [
    {
     "name": "stdout",
     "output_type": "stream",
     "text": [
      "\u001b[1m1/1\u001b[0m \u001b[32m━━━━━━━━━━━━━━━━━━━━\u001b[0m\u001b[37m\u001b[0m \u001b[1m1s\u001b[0m 505ms/step\n"
     ]
    },
    {
     "data": {
      "image/png": "[encoded data removed]",
      "text/plain": [
       "<Figure size 1000x600 with 1 Axes>"
      ]
     },
     "metadata": {},
     "output_type": "display_data"
    }
   ],
   "source": [
    "import numpy as np\n",
    "import matplotlib.pyplot as plt\n",
    "from tensorflow.keras.preprocessing.sequence import pad_sequences\n",
    "from tensorflow.keras.preprocessing.text import Tokenizer\n",
    "\n",
    "sample_texts = [\n",
    "    \"The stock market is soaring to new heights, with tech stocks leading the way!\",  # Positive\n",
    "    \"Economic uncertainty is looming over the market, leading to a cautious outlook.\",  # Negative\n",
    "    \"Positive outlook for the tech industry this quarter, with major innovations expected.\",  # Positive\n",
    "    \"Investors are optimistic about the upcoming earnings report, anticipating strong growth.\",  # Positive\n",
    "    \"Market dips amid global tensions but expected to recover, offering buying opportunities.\",  # Neutral\n",
    "    \"Steady growth continues for major indices, signaling a stable economy.\",  # Positive\n",
    "    \"Concerns over inflation impact stock prices negatively, causing investor anxiety.\",  # Negative\n",
    "    \"Strong dollar boosts investor confidence in markets, especially in the export sector.\",  # Positive\n",
    "    \"Sector rotation favors tech and healthcare stocks, leading to shifts in investment strategies.\",  # Neutral\n",
    "    \"Weakening demand affects corporate profits and stock prices, signaling potential downturn.\",  # Negative\n",
    "    \"Market sentiment shifts towards defensive stocks due to geopolitical instability.\",  # Negative\n",
    "    \"Speculations about rate hikes lead to volatility in stocks, making investors nervous.\",  # Negative\n",
    "    \"Strong job data boosts market optimism, especially for consumer-driven industries.\",  # Positive\n",
    "    \"Tech innovation drives strong stock performance, with companies like Apple and Tesla leading.\",  # Positive\n",
    "    \"Concerns over oil prices weigh on global markets, causing declines in energy stocks.\",  # Negative\n",
    "    \"Federal Reserve policies stabilize financial markets, offering hope for long-term growth.\",  # Positive\n",
    "    \"Banking stocks recover after initial pullback, signaling confidence in financial stability.\",  # Positive\n",
    "    \"Global trade tensions ease, boosting market sentiment and driving stock prices up.\",  # Positive\n",
    "    \"Weak dollar fuels rally in export-driven stocks, benefiting international companies.\",  # Positive\n",
    "    \"Mixed earnings reports create uncertain market trends, causing volatility in stock prices.\",  # Neutral\n",
    "    \"The technology sector is experiencing a major downturn, with stocks falling sharply.\",  # Negative\n",
    "    \"Consumer confidence is on the rise, leading to expectations of strong retail performance.\",  # Positive\n",
    "    \"A potential economic recession is on the horizon, sending stocks into a downward spiral.\",  # Negative\n",
    "    \"The crypto market continues to fluctuate wildly, with no clear direction in sight.\",  # Neutral\n",
    "    \"Strong earnings results from major corporations are driving stock prices to new highs.\",  # Positive\n",
    "    \"The stock market faces heavy sell-offs due to political instability, causing widespread concern.\",  # Negative\n",
    "    \"The housing market is cooling off, which may lead to declines in real estate stocks.\",  # Negative\n",
    "    \"Innovation in renewable energy is expected to drive growth in green tech stocks.\",  # Positive\n",
    "    \"The Federal Reserve signals an interest rate cut, providing a boost to the stock market.\",  # Positive\n",
    "    \"Global economic slowdown affects consumer spending, leading to weaker retail stock performance.\"  # Negative\n",
    "]\n",
    "\n",
    "\n",
    "random_indices = np.random.choice(len(sample_texts), size=30, replace=True) \n",
    "random_text_samples = [sample_texts[i] for i in random_indices]\n",
    "\n",
    "\n",
    "tokenizer = Tokenizer(num_words=5000, lower=True)\n",
    "tokenizer.fit_on_texts(sample_texts)  \n",
    "X_seq_random = tokenizer.texts_to_sequences(random_text_samples) \n",
    "X_pad_random = pad_sequences(X_seq_random, maxlen=100) \n",
    "\n",
    "\n",
    "future_predictions = model.predict(X_pad_random)\n",
    "future_predictions = np.argmax(future_predictions, axis=1)  \n",
    "\n",
    "\n",
    "y_random = np.random.choice([0, 1, -1], size=30)  \n",
    "\n",
    "plt.figure(figsize=(10, 6))\n",
    "\n",
    "plt.plot(range(30), y_random, label=\"Actual Stock Trend\", color='blue', marker='o')\n",
    "\n",
    "\n",
    "plt.plot(range(30), future_predictions, label=\"Predicted Stock Trend\", color='red', linestyle='--', marker='x')\n",
    "\n",
    "plt.legend()\n",
    "plt.title(\"Stock Price Trends: Actual vs Predicted for Random Samples\")\n",
    "plt.xlabel(\"Sample Index\")\n",
    "plt.ylabel(\"Stock Trend (-1 = Decrease, 0 = Neutral, 1 = Increase)\")\n",
    "plt.show()\n"
   ]
  },
  {
   "cell_type": "code",
   "execution_count": 244,
   "id": "0a0eb1b8",
   "metadata": {
    "scrolled": true
   },
   "outputs": [
    {
     "name": "stderr",
     "output_type": "stream",
     "text": [
      "WARNING:absl:You are saving your model as an HDF5 file via `model.save()` or `keras.saving.save_model(model)`. This file format is considered legacy. We recommend using instead the native Keras format, e.g. `model.save('my_model.keras')` or `keras.saving.save_model(model, 'my_model.keras')`. \n"
     ]
    }
   ],
   "source": [
    "model.save('model.h5')"
   ]
  },
  {
   "cell_type": "markdown",
   "id": "d8b3e771",
   "metadata": {},
   "source": [
    "## 9. Building  a Chatbot for Q&A using Gemini API"
   ]
  },
  {
   "cell_type": "code",
   "execution_count": 2,
   "id": "e04c0c14",
   "metadata": {
    "collapsed": true
   },
   "outputs": [
    {
     "name": "stdout",
     "output_type": "stream",
     "text": [
      "Collecting google-generativeai\n",
      "  Obtaining dependency information for google-generativeai from https://files.pythonhosted.org/packages/e9/2f/b5c1d62e94409ed98d5425e83b8e6d3dd475b611be272f561b1a545d273a/google_generativeai-0.8.3-py3-none-any.whl.metadata\n",
      "  Using cached google_generativeai-0.8.3-py3-none-any.whl.metadata (3.9 kB)\n",
      "Collecting google-ai-generativelanguage==0.6.10 (from google-generativeai)\n",
      "  Obtaining dependency information for google-ai-generativelanguage==0.6.10 from https://files.pythonhosted.org/packages/af/6d/db99a295f9caf027bbdd90c41e6ea650a7468392a0e8713719e7abc5f647/google_ai_generativelanguage-0.6.10-py3-none-any.whl.metadata\n",
      "  Using cached google_ai_generativelanguage-0.6.10-py3-none-any.whl.metadata (5.6 kB)\n",
      "Collecting google-api-core (from google-generativeai)\n",
      "  Obtaining dependency information for google-api-core from https://files.pythonhosted.org/packages/17/a4/c26886d57d90032c5f74c2e80aefdc38ec58551fc46bd4ce79fb2c9389fa/google_api_core-2.23.0-py3-none-any.whl.metadata\n",
      "  Using cached google_api_core-2.23.0-py3-none-any.whl.metadata (3.0 kB)\n",
      "Collecting google-api-python-client (from google-generativeai)\n",
      "  Obtaining dependency information for google-api-python-client from https://files.pythonhosted.org/packages/56/3f/adf5f6b963307765209fc27943516c7c605d250234b01899d524b8f01fe3/google_api_python_client-2.154.0-py2.py3-none-any.whl.metadata\n",
      "  Using cached google_api_python_client-2.154.0-py2.py3-none-any.whl.metadata (6.7 kB)\n",
      "Collecting google-auth>=2.15.0 (from google-generativeai)\n",
      "  Obtaining dependency information for google-auth>=2.15.0 from https://files.pythonhosted.org/packages/2d/9a/3d5087d27865c2f0431b942b5c4500b7d1b744dd3262fdc973a4c39d099e/google_auth-2.36.0-py2.py3-none-any.whl.metadata\n",
      "  Using cached google_auth-2.36.0-py2.py3-none-any.whl.metadata (4.7 kB)\n",
      "Requirement already satisfied: protobuf in c:\\users\\savio\\anaconda3\\lib\\site-packages (from google-generativeai) (5.28.3)\n",
      "Collecting pydantic (from google-generativeai)\n",
      "  Obtaining dependency information for pydantic from https://files.pythonhosted.org/packages/d5/74/da832196702d0c56eb86b75bfa346db9238617e29b0b7ee3b8b4eccfe654/pydantic-2.10.2-py3-none-any.whl.metadata\n",
      "  Using cached pydantic-2.10.2-py3-none-any.whl.metadata (170 kB)\n",
      "Requirement already satisfied: tqdm in c:\\users\\savio\\anaconda3\\lib\\site-packages (from google-generativeai) (4.65.0)\n",
      "Requirement already satisfied: typing-extensions in c:\\users\\savio\\anaconda3\\lib\\site-packages (from google-generativeai) (4.12.2)\n",
      "Collecting proto-plus<2.0.0dev,>=1.22.3 (from google-ai-generativelanguage==0.6.10->google-generativeai)\n",
      "  Obtaining dependency information for proto-plus<2.0.0dev,>=1.22.3 from https://files.pythonhosted.org/packages/dd/25/0b7cc838ae3d76d46539020ec39fc92bfc9acc29367e58fe912702c2a79e/proto_plus-1.25.0-py3-none-any.whl.metadata\n",
      "  Using cached proto_plus-1.25.0-py3-none-any.whl.metadata (2.2 kB)\n",
      "Collecting cachetools<6.0,>=2.0.0 (from google-auth>=2.15.0->google-generativeai)\n",
      "  Obtaining dependency information for cachetools<6.0,>=2.0.0 from https://files.pythonhosted.org/packages/a4/07/14f8ad37f2d12a5ce41206c21820d8cb6561b728e51fad4530dff0552a67/cachetools-5.5.0-py3-none-any.whl.metadata\n",
      "  Using cached cachetools-5.5.0-py3-none-any.whl.metadata (5.3 kB)\n",
      "Requirement already satisfied: pyasn1-modules>=0.2.1 in c:\\users\\savio\\anaconda3\\lib\\site-packages (from google-auth>=2.15.0->google-generativeai) (0.2.8)\n",
      "Collecting rsa<5,>=3.1.4 (from google-auth>=2.15.0->google-generativeai)\n",
      "  Obtaining dependency information for rsa<5,>=3.1.4 from https://files.pythonhosted.org/packages/49/97/fa78e3d2f65c02c8e1268b9aba606569fe97f6c8f7c2d74394553347c145/rsa-4.9-py3-none-any.whl.metadata\n",
      "  Using cached rsa-4.9-py3-none-any.whl.metadata (4.2 kB)\n",
      "Collecting googleapis-common-protos<2.0.dev0,>=1.56.2 (from google-api-core->google-generativeai)\n",
      "  Obtaining dependency information for googleapis-common-protos<2.0.dev0,>=1.56.2 from https://files.pythonhosted.org/packages/a0/0f/c0713fb2b3d28af4b2fded3291df1c4d4f79a00d15c2374a9e010870016c/googleapis_common_protos-1.66.0-py2.py3-none-any.whl.metadata\n",
      "  Using cached googleapis_common_protos-1.66.0-py2.py3-none-any.whl.metadata (1.5 kB)\n",
      "Requirement already satisfied: requests<3.0.0.dev0,>=2.18.0 in c:\\users\\savio\\anaconda3\\lib\\site-packages (from google-api-core->google-generativeai) (2.31.0)\n",
      "Collecting httplib2<1.dev0,>=0.19.0 (from google-api-python-client->google-generativeai)\n",
      "  Obtaining dependency information for httplib2<1.dev0,>=0.19.0 from https://files.pythonhosted.org/packages/a8/6c/d2fbdaaa5959339d53ba38e94c123e4e84b8fbc4b84beb0e70d7c1608486/httplib2-0.22.0-py3-none-any.whl.metadata\n",
      "  Using cached httplib2-0.22.0-py3-none-any.whl.metadata (2.6 kB)\n",
      "Collecting google-auth-httplib2<1.0.0,>=0.2.0 (from google-api-python-client->google-generativeai)\n",
      "  Obtaining dependency information for google-auth-httplib2<1.0.0,>=0.2.0 from https://files.pythonhosted.org/packages/be/8a/fe34d2f3f9470a27b01c9e76226965863f153d5fbe276f83608562e49c04/google_auth_httplib2-0.2.0-py2.py3-none-any.whl.metadata\n",
      "  Using cached google_auth_httplib2-0.2.0-py2.py3-none-any.whl.metadata (2.2 kB)\n",
      "Collecting uritemplate<5,>=3.0.1 (from google-api-python-client->google-generativeai)\n",
      "  Obtaining dependency information for uritemplate<5,>=3.0.1 from https://files.pythonhosted.org/packages/81/c0/7461b49cd25aeece13766f02ee576d1db528f1c37ce69aee300e075b485b/uritemplate-4.1.1-py2.py3-none-any.whl.metadata\n",
      "  Using cached uritemplate-4.1.1-py2.py3-none-any.whl.metadata (2.9 kB)\n",
      "Collecting annotated-types>=0.6.0 (from pydantic->google-generativeai)\n",
      "  Obtaining dependency information for annotated-types>=0.6.0 from https://files.pythonhosted.org/packages/78/b6/6307fbef88d9b5ee7421e68d78a9f162e0da4900bc5f5793f6d3d0e34fb8/annotated_types-0.7.0-py3-none-any.whl.metadata\n",
      "  Using cached annotated_types-0.7.0-py3-none-any.whl.metadata (15 kB)\n",
      "Collecting pydantic-core==2.27.1 (from pydantic->google-generativeai)\n",
      "  Obtaining dependency information for pydantic-core==2.27.1 from https://files.pythonhosted.org/packages/6a/fe/4e0e63c418c1c76e33974a05266e5633e879d4061f9533b1706a86f77d5b/pydantic_core-2.27.1-cp311-none-win_amd64.whl.metadata\n",
      "  Using cached pydantic_core-2.27.1-cp311-none-win_amd64.whl.metadata (6.7 kB)\n",
      "Requirement already satisfied: colorama in c:\\users\\savio\\anaconda3\\lib\\site-packages (from tqdm->google-generativeai) (0.4.6)\n",
      "Requirement already satisfied: grpcio<2.0dev,>=1.33.2 in c:\\users\\savio\\anaconda3\\lib\\site-packages (from google-api-core->google-generativeai) (1.67.0)\n",
      "Collecting grpcio-status<2.0.dev0,>=1.33.2 (from google-api-core->google-generativeai)\n",
      "  Obtaining dependency information for grpcio-status<2.0.dev0,>=1.33.2 from https://files.pythonhosted.org/packages/40/ba/dc535631a9dffa421b327ebfc961911af54c396aa5324efd122a94f72464/grpcio_status-1.68.0-py3-none-any.whl.metadata\n",
      "  Using cached grpcio_status-1.68.0-py3-none-any.whl.metadata (1.1 kB)\n",
      "Requirement already satisfied: pyparsing!=3.0.0,!=3.0.1,!=3.0.2,!=3.0.3,<4,>=2.4.2 in c:\\users\\savio\\anaconda3\\lib\\site-packages (from httplib2<1.dev0,>=0.19.0->google-api-python-client->google-generativeai) (3.0.9)\n",
      "Requirement already satisfied: pyasn1<0.5.0,>=0.4.6 in c:\\users\\savio\\anaconda3\\lib\\site-packages (from pyasn1-modules>=0.2.1->google-auth>=2.15.0->google-generativeai) (0.4.8)\n",
      "Requirement already satisfied: charset-normalizer<4,>=2 in c:\\users\\savio\\anaconda3\\lib\\site-packages (from requests<3.0.0.dev0,>=2.18.0->google-api-core->google-generativeai) (2.0.4)\n",
      "Requirement already satisfied: idna<4,>=2.5 in c:\\users\\savio\\anaconda3\\lib\\site-packages (from requests<3.0.0.dev0,>=2.18.0->google-api-core->google-generativeai) (3.4)\n",
      "Requirement already satisfied: urllib3<3,>=1.21.1 in c:\\users\\savio\\anaconda3\\lib\\site-packages (from requests<3.0.0.dev0,>=2.18.0->google-api-core->google-generativeai) (1.26.16)\n",
      "Requirement already satisfied: certifi>=2017.4.17 in c:\\users\\savio\\anaconda3\\lib\\site-packages (from requests<3.0.0.dev0,>=2.18.0->google-api-core->google-generativeai) (2023.7.22)\n",
      "Collecting grpcio<2.0dev,>=1.33.2 (from google-api-core->google-generativeai)\n",
      "  Obtaining dependency information for grpcio<2.0dev,>=1.33.2 from https://files.pythonhosted.org/packages/e4/31/120ec7132e6b82a0df91952f71aa0aa5e9f23d70152b58d96fac9b3e7cfe/grpcio-1.68.0-cp311-cp311-win_amd64.whl.metadata\n",
      "  Using cached grpcio-1.68.0-cp311-cp311-win_amd64.whl.metadata (4.0 kB)\n",
      "Using cached google_generativeai-0.8.3-py3-none-any.whl (160 kB)\n",
      "Using cached google_ai_generativelanguage-0.6.10-py3-none-any.whl (760 kB)\n",
      "Using cached google_auth-2.36.0-py2.py3-none-any.whl (209 kB)\n",
      "Using cached google_api_core-2.23.0-py3-none-any.whl (156 kB)\n",
      "Using cached google_api_python_client-2.154.0-py2.py3-none-any.whl (12.6 MB)\n",
      "Using cached pydantic-2.10.2-py3-none-any.whl (456 kB)\n",
      "Using cached pydantic_core-2.27.1-cp311-none-win_amd64.whl (2.0 MB)\n",
      "Using cached annotated_types-0.7.0-py3-none-any.whl (13 kB)\n",
      "Using cached cachetools-5.5.0-py3-none-any.whl (9.5 kB)\n",
      "Using cached google_auth_httplib2-0.2.0-py2.py3-none-any.whl (9.3 kB)\n",
      "Using cached googleapis_common_protos-1.66.0-py2.py3-none-any.whl (221 kB)\n",
      "Using cached httplib2-0.22.0-py3-none-any.whl (96 kB)\n",
      "Using cached proto_plus-1.25.0-py3-none-any.whl (50 kB)\n",
      "Using cached rsa-4.9-py3-none-any.whl (34 kB)\n",
      "Using cached uritemplate-4.1.1-py2.py3-none-any.whl (10 kB)\n",
      "Using cached grpcio_status-1.68.0-py3-none-any.whl (14 kB)\n",
      "Downloading grpcio-1.68.0-cp311-cp311-win_amd64.whl (4.4 MB)\n",
      "   ---------------------------------------- 0.0/4.4 MB ? eta -:--:--\n",
      "   ---------------------------------------- 0.0/4.4 MB 1.3 MB/s eta 0:00:04\n",
      "    --------------------------------------- 0.1/4.4 MB 1.2 MB/s eta 0:00:04\n",
      "   - -------------------------------------- 0.2/4.4 MB 1.4 MB/s eta 0:00:04\n",
      "   -- ------------------------------------- 0.3/4.4 MB 1.7 MB/s eta 0:00:03\n",
      "   --- ------------------------------------ 0.4/4.4 MB 1.8 MB/s eta 0:00:03\n",
      "   ---- ----------------------------------- 0.5/4.4 MB 1.8 MB/s eta 0:00:03\n",
      "   ----- ---------------------------------- 0.6/4.4 MB 2.0 MB/s eta 0:00:02\n",
      "   ------- -------------------------------- 0.8/4.4 MB 2.1 MB/s eta 0:00:02\n",
      "   -------- ------------------------------- 0.9/4.4 MB 2.2 MB/s eta 0:00:02\n",
      "   --------- ------------------------------ 1.1/4.4 MB 2.3 MB/s eta 0:00:02\n",
      "   ----------- ---------------------------- 1.2/4.4 MB 2.4 MB/s eta 0:00:02\n",
      "   ----------- ---------------------------- 1.3/4.4 MB 2.4 MB/s eta 0:00:02\n",
      "   ------------- -------------------------- 1.5/4.4 MB 2.6 MB/s eta 0:00:02\n",
      "   --------------- ------------------------ 1.7/4.4 MB 2.6 MB/s eta 0:00:02\n",
      "   --------------- ------------------------ 1.7/4.4 MB 2.6 MB/s eta 0:00:02\n",
      "   --------------- ------------------------ 1.7/4.4 MB 2.6 MB/s eta 0:00:02\n",
      "   ---------------- ----------------------- 1.8/4.4 MB 2.4 MB/s eta 0:00:02\n",
      "   ------------------ --------------------- 2.0/4.4 MB 2.4 MB/s eta 0:00:02\n",
      "   ------------------ --------------------- 2.1/4.4 MB 2.4 MB/s eta 0:00:01\n",
      "   ------------------- -------------------- 2.2/4.4 MB 2.4 MB/s eta 0:00:01\n",
      "   --------------------- ------------------ 2.4/4.4 MB 2.4 MB/s eta 0:00:01\n",
      "   ----------------------- ---------------- 2.5/4.4 MB 2.5 MB/s eta 0:00:01\n",
      "   ------------------------ --------------- 2.7/4.4 MB 2.6 MB/s eta 0:00:01\n",
      "   ------------------------- -------------- 2.9/4.4 MB 2.6 MB/s eta 0:00:01\n",
      "   --------------------------- ------------ 3.0/4.4 MB 2.6 MB/s eta 0:00:01\n",
      "   ---------------------------- ----------- 3.1/4.4 MB 2.6 MB/s eta 0:00:01\n",
      "   ----------------------------- ---------- 3.3/4.4 MB 2.6 MB/s eta 0:00:01\n",
      "   ------------------------------- -------- 3.5/4.4 MB 2.7 MB/s eta 0:00:01\n",
      "   --------------------------------- ------ 3.7/4.4 MB 2.8 MB/s eta 0:00:01\n",
      "   ----------------------------------- ---- 3.9/4.4 MB 2.8 MB/s eta 0:00:01\n",
      "   ------------------------------------- -- 4.1/4.4 MB 2.9 MB/s eta 0:00:01\n",
      "   -------------------------------------- - 4.2/4.4 MB 2.9 MB/s eta 0:00:01\n",
      "   ---------------------------------------  4.4/4.4 MB 2.9 MB/s eta 0:00:01\n",
      "   ---------------------------------------- 4.4/4.4 MB 2.9 MB/s eta 0:00:00\n",
      "Installing collected packages: uritemplate, rsa, pydantic-core, proto-plus, httplib2, grpcio, googleapis-common-protos, cachetools, annotated-types, pydantic, grpcio-status, google-auth, google-auth-httplib2, google-api-core, google-api-python-client, google-ai-generativelanguage, google-generativeai\n",
      "  Attempting uninstall: grpcio\n",
      "    Found existing installation: grpcio 1.67.0\n",
      "    Uninstalling grpcio-1.67.0:\n",
      "      Successfully uninstalled grpcio-1.67.0\n",
      "Successfully installed annotated-types-0.7.0 cachetools-5.5.0 google-ai-generativelanguage-0.6.10 google-api-core-2.23.0 google-api-python-client-2.154.0 google-auth-2.36.0 google-auth-httplib2-0.2.0 google-generativeai-0.8.3 googleapis-common-protos-1.66.0 grpcio-1.68.0 grpcio-status-1.68.0 httplib2-0.22.0 proto-plus-1.25.0 pydantic-2.10.2 pydantic-core-2.27.1 rsa-4.9 uritemplate-4.1.1\n",
      "Note: you may need to restart the kernel to use updated packages.\n"
     ]
    }
   ],
   "source": [
    "pip install google-generativeai"
   ]
  },
  {
   "cell_type": "code",
   "execution_count": 4,
   "id": "4f751402",
   "metadata": {
    "collapsed": true
   },
   "outputs": [
    {
     "name": "stdout",
     "output_type": "stream",
     "text": [
      "Requirement already satisfied: keras in c:\\users\\savio\\anaconda3\\lib\\site-packages (3.6.0)\n",
      "Requirement already satisfied: absl-py in c:\\users\\savio\\anaconda3\\lib\\site-packages (from keras) (2.1.0)\n",
      "Requirement already satisfied: numpy in c:\\users\\savio\\anaconda3\\lib\\site-packages (from keras) (1.26.4)\n",
      "Requirement already satisfied: rich in c:\\users\\savio\\anaconda3\\lib\\site-packages (from keras) (13.9.3)\n",
      "Requirement already satisfied: namex in c:\\users\\savio\\anaconda3\\lib\\site-packages (from keras) (0.0.8)\n",
      "Requirement already satisfied: h5py in c:\\users\\savio\\anaconda3\\lib\\site-packages (from keras) (3.12.1)\n",
      "Requirement already satisfied: optree in c:\\users\\savio\\anaconda3\\lib\\site-packages (from keras) (0.13.0)\n",
      "Requirement already satisfied: ml-dtypes in c:\\users\\savio\\anaconda3\\lib\\site-packages (from keras) (0.4.1)\n",
      "Requirement already satisfied: packaging in c:\\users\\savio\\anaconda3\\lib\\site-packages (from keras) (23.0)\n",
      "Requirement already satisfied: typing-extensions>=4.5.0 in c:\\users\\savio\\anaconda3\\lib\\site-packages (from optree->keras) (4.12.2)\n",
      "Requirement already satisfied: markdown-it-py>=2.2.0 in c:\\users\\savio\\anaconda3\\lib\\site-packages (from rich->keras) (2.2.0)\n",
      "Requirement already satisfied: pygments<3.0.0,>=2.13.0 in c:\\users\\savio\\anaconda3\\lib\\site-packages (from rich->keras) (2.15.1)\n",
      "Requirement already satisfied: mdurl~=0.1 in c:\\users\\savio\\anaconda3\\lib\\site-packages (from markdown-it-py>=2.2.0->rich->keras) (0.1.0)\n",
      "Note: you may need to restart the kernel to use updated packages.\n"
     ]
    }
   ],
   "source": [
    "pip install keras"
   ]
  },
  {
   "cell_type": "code",
   "execution_count": 257,
   "id": "adaf5060",
   "metadata": {
    "scrolled": false
   },
   "outputs": [
    {
     "name": "stdout",
     "output_type": "stream",
     "text": [
      "Question 1: Is it the right time to invest in stocks?\n",
      "The provided text represents a diverse and often contradictory range of opinions and news snippets regarding the stock market, specific companies (Tesla, Trump's ventures), and investing strategies.  It's impossible to draw definitive conclusions or offer specific financial advice based solely on this chaotic collection of information.  However, we can identify some key themes and observations:\n",
      "\n",
      "Market Sentiment & Outlooks:\n",
      "\n",
      " Volatility and Uncertainty: The sentiment is overwhelmingly mixed, reflecting significant uncertainty in the market.  There are reports of both substantial gains and significant losses, from various investment strategies (penny stocks, growth stocks, shorting, etc.).\n",
      " Political Influence:  The influence of political figures (Trump, Biden) and political events on market performance is heavily emphasized, highlighting the intertwined nature of politics and finance.\n",
      " Tech Sector Concerns: While there's interest in undervalued tech stocks, the overall tone suggests caution, with mentions of losses and controversies surrounding specific tech companies (Tesla, cryptocurrency investments).\n",
      " Individual Investor Experiences:  The anecdotes of individual investors show a wide range of outcomes, from significant profits to substantial losses, reinforcing the inherent risks involved.  This highlights the difficulty of consistently \"finding stocks before they explode.\"  The long-term success rate is unclear.\n",
      " No Easy Wins: The repeated questions about investing's ease and the prevalence of significant losses emphasize that success requires skill, knowledge, risk management, and often, a significant amount of luck.\n",
      "\n",
      "Key Observations:\n",
      "\n",
      " Lack of Reliable Information: The information is anecdotal and lacks the context necessary for informed decision-making.  Many claims are unsubstantiated.\n",
      " Confirmation Bias: The snippets often reflect pre-existing biases (e.g., pro- or anti-Trump sentiment affecting investment decisions).\n",
      " Risk of Misinformation:  The inclusion of unsubstantiated claims (e.g., regarding insider trading) underscores the dangers of relying solely on social media or unverified sources for investment advice.\n",
      "\n",
      "Conclusion:\n",
      "\n",
      "The provided text doesn't offer a clear picture of the current market trends.  It demonstrates the inherent volatility and risk associated with stock market investments.  Relying on such a fragmented and often unreliable source of information for investment decisions is extremely risky.  Seeking advice from qualified financial professionals and conducting thorough due diligence is crucial before making any investment choices.  The idea of consistently finding \"undervalued stocks\" before they \"explode\" is largely a myth; successful investing usually involves long-term strategies, diversification, and risk management.\n",
      "\n",
      "\n",
      "Question 2: Best stocks to purchase\n",
      "The provided text is a chaotic mix of news headlines, personal anecdotes, and opinions about the stock market. It offers no reliable basis for recommending specific stocks to purchase.  The information is contradictory, speculative, and often emotionally charged.  Statements like \"penny stocks = best stocks\" are demonstrably false and dangerous.  Many headlines cite significant losses, illustrating the high-risk nature of some investment strategies.\n",
      "\n",
      "It's impossible to give sound investment advice based on this data.  Making investment decisions based on headlines and social media posts is extremely risky.\n",
      "\n",
      "To find potentially good stocks, you need to do thorough research and potentially consult a financial advisor:\n",
      "\n",
      " Fundamental Analysis: Examine a company's financial statements (income statement, balance sheet, cash flow statement), assess its management team, competitive landscape, and long-term growth potential.\n",
      " Technical Analysis:  Study historical stock price and volume data to identify trends and potential trading opportunities. However, this is considered less reliable than fundamental analysis by many investors.\n",
      " Diversification: Spread your investments across various sectors and asset classes to mitigate risk.\n",
      " Long-term Perspective:  Investing should be a long-term strategy. Short-term market fluctuations are normal and should not dictate your investment decisions.\n",
      "\n",
      "\n",
      "Instead of relying on unreliable sources, consider these resources for legitimate financial information:\n",
      "\n",
      " Reputable Financial News Sources:  The Wall Street Journal, Bloomberg, Reuters, Financial Times.\n",
      " SEC Filings (EDGAR):  Access company filings directly from the Securities and Exchange Commission.\n",
      " Financial Advisors:  Consult with a qualified financial advisor who can help you create a personalized investment plan.\n",
      "\n",
      "Remember, past performance is not indicative of future results. Any investment carries risk, and you could lose money.  Never invest money you can't afford to lose.\n",
      "\n"
     ]
    }
   ],
   "source": [
    "import google.generativeai as genai\n",
    "import numpy as np\n",
    "import pandas as pd\n",
    "import matplotlib.pyplot as plt\n",
    "import requests\n",
    "from PIL import Image\n",
    "from io import BytesIO\n",
    "from tensorflow.keras.preprocessing.text import Tokenizer\n",
    "from tensorflow.keras.preprocessing.sequence import pad_sequences\n",
    "\n",
    "genai.configure(api_key=\"Your Gemini API Key her\")\n",
    "\n",
    "text_samples = saved_df['Title'].tolist()\n",
    "\n",
    "tokenizer = Tokenizer()\n",
    "tokenizer.fit_on_texts(text_samples)\n",
    "X_seq = tokenizer.texts_to_sequences(text_samples)\n",
    "X_pad = pad_sequences(X_seq, maxlen=100)\n",
    "\n",
    "future_predictions = np.random.choice([0, 1, -1], size=len(text_samples))\n",
    "\n",
    "question_1 = f\"\"\"\n",
    "Based on the following stock market sentiments: {', '.join(text_samples)}, is it the right time to invest in stocks right now? \n",
    "Please consider the current market trends, sentiment, and outlooks.\n",
    "\"\"\"\n",
    "\n",
    "question_2 = f\"\"\"\n",
    "Given the following stock predictions and market trends: {', '.join(text_samples)}, \n",
    "mention some of the best stocks to purchase based on the current market sentiment.\n",
    "\"\"\"\n",
    "\n",
    "def get_gemini_response(question):\n",
    "    try:\n",
    "        # Requesting content from the Gemini model\n",
    "        response = genai.GenerativeModel(\"gemini-1.5-flash\").generate_content(question)\n",
    "\n",
    "        # Check if the response has valid content\n",
    "        if not response or not hasattr(response, 'text') or not response.text:\n",
    "            raise ValueError(\"No valid response returned from the model.\")\n",
    "\n",
    "        # Make text inside quadruple asterisks bold and remove all asterisks\n",
    "        formatted_text = response.text.replace(\"****\", \"\").replace(\"*\", \"\").replace(\"**\", \"\")\n",
    "        formatted_text = formatted_text.replace(\"****\", \"**\")\n",
    "        return formatted_text\n",
    "\n",
    "    except Exception as e:\n",
    "        print(f\"Error generating content: {e}\")\n",
    "        return \"Error: Unable to generate response\"\n",
    "\n",
    "response_1 = get_gemini_response(question_1)\n",
    "response_2 = get_gemini_response(question_2)\n",
    "\n",
    "print(\"Question 1: Is it the right time to invest in stocks?\")\n",
    "print(response_1)\n",
    "print(\"\\nQuestion 2: Best stocks to purchase\")\n",
    "print(response_2)\n"
   ]
  }
 ],
 "metadata": {
  "kernelspec": {
   "display_name": "Python 3 (ipykernel)",
   "language": "python",
   "name": "python3"
  },
  "language_info": {
   "codemirror_mode": {
    "name": "ipython",
    "version": 3
   },
   "file_extension": ".py",
   "mimetype": "text/x-python",
   "name": "python",
   "nbconvert_exporter": "python",
   "pygments_lexer": "ipython3",
   "version": "3.11.4"
  }
 },
 "nbformat": 4,
 "nbformat_minor": 5
}
